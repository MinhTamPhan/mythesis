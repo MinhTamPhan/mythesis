{
  "nbformat": 4,
  "nbformat_minor": 0,
  "metadata": {
    "colab": {
      "name": "GCAT_WN18.ipynb",
      "provenance": [],
      "collapsed_sections": [
        "-9F-asBHkulW"
      ],
      "toc_visible": true,
      "machine_shape": "hm"
    },
    "kernelspec": {
      "name": "python3",
      "display_name": "Python 3"
    },
    "accelerator": "GPU"
  },
  "cells": [
    {
      "cell_type": "markdown",
      "metadata": {
        "id": "Y4mgm4qrDukx",
        "colab_type": "text"
      },
      "source": [
        "### Content\n",
        "\n",
        "* I. Initial\n",
        "\n",
        "* II. Load Corpus\n",
        "\n",
        "* III. Train GAT\n",
        "\n",
        "* IV. Train Conv\n",
        "\n",
        "* V. Evaluation"
      ]
    },
    {
      "cell_type": "code",
      "metadata": {
        "id": "-0AR5sVRSLr9",
        "colab_type": "code",
        "colab": {
          "base_uri": "https://localhost:8080/",
          "height": 34
        },
        "outputId": "7c611eab-81f7-4471-de71-b69ab7a0c415"
      },
      "source": [
        "from google.colab import drive\n",
        "drive.flush_and_unmount()"
      ],
      "execution_count": null,
      "outputs": [
        {
          "output_type": "stream",
          "text": [
            "Drive not mounted, so nothing to flush and unmount.\n"
          ],
          "name": "stdout"
        }
      ]
    },
    {
      "cell_type": "code",
      "metadata": {
        "id": "RchFmvW5SPOa",
        "colab_type": "code",
        "colab": {}
      },
      "source": [
        "rm -rf /content/*"
      ],
      "execution_count": null,
      "outputs": []
    },
    {
      "cell_type": "markdown",
      "metadata": {
        "id": "DPc4WgWZxJvA",
        "colab_type": "text"
      },
      "source": [
        "# I. Initial"
      ]
    },
    {
      "cell_type": "code",
      "metadata": {
        "id": "pYa4yoggvjF6",
        "colab_type": "code",
        "colab": {
          "base_uri": "https://localhost:8080/",
          "height": 51
        },
        "outputId": "2e35deb4-4b67-4f48-dbd2-0780f9aad27d"
      },
      "source": [
        "%%bash\n",
        "rm -rf GCAT\n",
        "git clone https://github.com/hmthanh/GCAT.git"
      ],
      "execution_count": null,
      "outputs": [
        {
          "output_type": "stream",
          "text": [
            "Cloning into 'GCAT'...\n",
            "Checking out files:  47% (57/120)   \rChecking out files:  48% (58/120)   \rChecking out files:  49% (59/120)   \rChecking out files:  50% (60/120)   \rChecking out files:  51% (62/120)   \rChecking out files:  52% (63/120)   \rChecking out files:  53% (64/120)   \rChecking out files:  54% (65/120)   \rChecking out files:  55% (66/120)   \rChecking out files:  56% (68/120)   \rChecking out files:  57% (69/120)   \rChecking out files:  58% (70/120)   \rChecking out files:  59% (71/120)   \rChecking out files:  60% (72/120)   \rChecking out files:  61% (74/120)   \rChecking out files:  62% (75/120)   \rChecking out files:  63% (76/120)   \rChecking out files:  64% (77/120)   \rChecking out files:  65% (78/120)   \rChecking out files:  66% (80/120)   \rChecking out files:  67% (81/120)   \rChecking out files:  68% (82/120)   \rChecking out files:  69% (83/120)   \rChecking out files:  70% (84/120)   \rChecking out files:  71% (86/120)   \rChecking out files:  72% (87/120)   \rChecking out files:  73% (88/120)   \rChecking out files:  74% (89/120)   \rChecking out files:  75% (90/120)   \rChecking out files:  76% (92/120)   \rChecking out files:  77% (93/120)   \rChecking out files:  78% (94/120)   \rChecking out files:  79% (95/120)   \rChecking out files:  80% (96/120)   \rChecking out files:  81% (98/120)   \rChecking out files:  82% (99/120)   \rChecking out files:  83% (100/120)   \rChecking out files:  84% (101/120)   \rChecking out files:  85% (102/120)   \rChecking out files:  86% (104/120)   \rChecking out files:  87% (105/120)   \rChecking out files:  88% (106/120)   \rChecking out files:  89% (107/120)   \rChecking out files:  90% (108/120)   \rChecking out files:  91% (110/120)   \rChecking out files:  92% (111/120)   \rChecking out files:  93% (112/120)   \rChecking out files:  94% (113/120)   \rChecking out files:  95% (114/120)   \rChecking out files:  96% (116/120)   \rChecking out files:  97% (117/120)   \rChecking out files:  98% (118/120)   \rChecking out files:  99% (119/120)   \rChecking out files: 100% (120/120)   \rChecking out files: 100% (120/120), done.\n"
          ],
          "name": "stderr"
        }
      ]
    },
    {
      "cell_type": "code",
      "metadata": {
        "id": "Kb7JNiVgPKsm",
        "colab_type": "code",
        "colab": {
          "base_uri": "https://localhost:8080/",
          "height": 51
        },
        "outputId": "11c6ef8c-bbdb-40e6-ea4c-57cb514284dd"
      },
      "source": [
        "!yes | cp --i /content/GCAT/* /content/"
      ],
      "execution_count": null,
      "outputs": [
        {
          "output_type": "stream",
          "text": [
            "cp: -r not specified; omitting directory '/content/GCAT/data'\n",
            "cp: -r not specified; omitting directory '/content/GCAT/output'\n"
          ],
          "name": "stdout"
        }
      ]
    },
    {
      "cell_type": "code",
      "metadata": {
        "id": "3PjeGKtXvlh_",
        "colab_type": "code",
        "colab": {
          "base_uri": "https://localhost:8080/",
          "height": 34
        },
        "outputId": "bb96c79e-1c1b-4e8a-e4fd-41b34137fd5c"
      },
      "source": [
        "%%bash\n",
        "rm -rf /content/data/\n",
        "rm -rf /content/output/\n",
        "rm -r /content/sample_data/\n",
        "\n",
        "mv /content/GCAT/* /content/\n",
        "rm -r /content/GCAT/"
      ],
      "execution_count": null,
      "outputs": [
        {
          "output_type": "stream",
          "text": [
            "rm: cannot remove '/content/sample_data/': No such file or directory\n"
          ],
          "name": "stderr"
        }
      ]
    },
    {
      "cell_type": "markdown",
      "metadata": {
        "id": "BbPQ5L-K2zpB",
        "colab_type": "text"
      },
      "source": [
        "Load Google Drive if you want to save model on Google Drive"
      ]
    },
    {
      "cell_type": "code",
      "metadata": {
        "id": "yf3VUMI2_vz2",
        "colab_type": "code",
        "colab": {
          "base_uri": "https://localhost:8080/",
          "height": 122
        },
        "outputId": "c6d294ab-6b9e-4f1e-c40d-60110fee1ed4"
      },
      "source": [
        "from google.colab import drive\n",
        "drive.mount('/content/drive')"
      ],
      "execution_count": null,
      "outputs": [
        {
          "output_type": "stream",
          "text": [
            "Go to this URL in a browser: https://accounts.google.com/o/oauth2/auth?client_id=947318989803-6bn6qk8qdgf4n4g3pfee6491hc0brc4i.apps.googleusercontent.com&redirect_uri=urn%3aietf%3awg%3aoauth%3a2.0%3aoob&scope=email%20https%3a%2f%2fwww.googleapis.com%2fauth%2fdocs.test%20https%3a%2f%2fwww.googleapis.com%2fauth%2fdrive%20https%3a%2f%2fwww.googleapis.com%2fauth%2fdrive.photos.readonly%20https%3a%2f%2fwww.googleapis.com%2fauth%2fpeopleapi.readonly&response_type=code\n",
            "\n",
            "Enter your authorization code:\n",
            "··········\n",
            "Mounted at /content/drive\n"
          ],
          "name": "stdout"
        }
      ]
    },
    {
      "cell_type": "markdown",
      "metadata": {
        "id": "-9F-asBHkulW",
        "colab_type": "text"
      },
      "source": [
        "## 1. Config"
      ]
    },
    {
      "cell_type": "code",
      "metadata": {
        "id": "lG3Wb8BC28IJ",
        "colab_type": "code",
        "cellView": "both",
        "colab": {}
      },
      "source": [
        "#@title Cấu hình cài đặt quá trình huấn luyện { run: \"auto\" }\n",
        "\n",
        "#@markdown Siêu tham số\n",
        "\n",
        "dataset = \"FB15k\" #@param [\"WN18RR\", \"WN18\", \"FB15k\", \"FB15k-237\"] {allow-input: false}\n",
        "cuda = True #@param {type: \"boolean\"}\n",
        "save_gdrive = True #@param {type: \"boolean\"}\n",
        "data_folder = \"./data\" #@param {type: \"string\"}\n",
        "output_folder=\"./output\" #@param {type: \"string\"}\n",
        "drive_folder=\"/content/drive/My Drive\" #@param {type: \"string\"}\n",
        "\n",
        "epochs_gat = 3000 #@param {type: \"number\"}\n",
        "epochs_conv = 150 #@param {type: \"number\"}\n",
        "weight_decay_gat = float(1e-5) #@param {type:\"raw\"}\n",
        "weight_decay_conv = float(1e-5) #@param {type:\"raw\"}\n",
        "pretrained_emb = False #@param {type: \"boolean\"}\n",
        "embedding_size = 50 #@param {type: \"slider\", min: 20, max: 200}\n",
        "lr = float(1e-3) #@param {type:\"raw\"}\n",
        "get_2hop = True #@param {type: \"boolean\"}\n",
        "use_2hop = True #@param {type: \"boolean\"}\n",
        "partial_2hop = True #@param {type: \"boolean\"}\n",
        "\n",
        "#@markdown --- Tham số cho mô hình GAT\n",
        "batch_size_gat = 272115 #@param {type: \"number\"}\n",
        "valid_invalid_ratio_gat = 2 #@param {type: \"slider\", min: 1, max: 10}\n",
        "drop_GAT = 0.3  #@param {type:\"raw\"}\n",
        "alpha = 0.2  #@param {type:\"raw\"}\n",
        "entity_out_dim = [100, 200]  #@param {type:\"raw\"}\n",
        "nheads_GAT = [2, 2]  #@param {type:\"raw\"}\n",
        "margin = 1 #@param {type: \"slider\", min: 1, max: 10}\n",
        "\n",
        "#@markdown --- Tham số cho mô hình ConvKB\n",
        "batch_size_conv = 128  #@param {type: \"slider\", min: 16, max: 512, step:16}\n",
        "alpha_conv = 0.2  #@param {type:\"raw\"}\n",
        "valid_invalid_ratio_conv = 40\n",
        "out_channels = 50 #@param {type: \"slider\", min: 50, max: 1000, step:50}\n",
        "drop_conv = 0.3  #@param {type:\"raw\"}\n",
        "\n",
        "from create_config import Config\n",
        "\n",
        "config = Config(dataset=dataset, data_folder=data_folder,cuda=cuda,output_folder=output_folder,save_gdrive=save_gdrive,drive_folder=drive_folder,epochs_gat=epochs_gat,epochs_conv=epochs_conv,weight_decay_gat=weight_decay_gat,weight_decay_conv=weight_decay_conv,pretrained_emb=pretrained_emb,embedding_size=embedding_size,lr=lr,get_2hop=get_2hop,use_2hop=use_2hop,partial_2hop=partial_2hop,batch_size_gat=batch_size_gat,valid_invalid_ratio_gat=valid_invalid_ratio_gat,drop_GAT=drop_GAT,alpha=alpha,entity_out_dim=entity_out_dim,nheads_GAT=nheads_GAT,margin=margin,batch_size_conv=batch_size_conv,alpha_conv=alpha_conv,valid_invalid_ratio_conv=valid_invalid_ratio_conv,out_channels=out_channels,drop_conv=drop_conv)\n",
        "\n",
        "config.dumps_config()"
      ],
      "execution_count": null,
      "outputs": []
    },
    {
      "cell_type": "markdown",
      "metadata": {
        "id": "lTBwfxXmk0FE",
        "colab_type": "text"
      },
      "source": [
        "## 2. WN18RR"
      ]
    },
    {
      "cell_type": "code",
      "metadata": {
        "id": "_vXBc7sYkzee",
        "colab_type": "code",
        "cellView": "both",
        "colab": {
          "base_uri": "https://localhost:8080/",
          "height": 493
        },
        "outputId": "4cffbea1-2d85-4f03-841e-60c0d8eeca8f"
      },
      "source": [
        "#@title Cấu hình cài đặt WN18RR { run: \"auto\" }\n",
        "\n",
        "#@markdown Siêu tham số\n",
        "\n",
        "dataset = \"WN18\" #@param [\"WN18RR\", \"WN18\", \"FB15k\", \"FB15k-237\", \"Thanh\"] {allow-input: false}\n",
        "cuda = False #@param {type: \"boolean\"}\n",
        "data_folder = \"./data\"\n",
        "output_folder=\"./output\" #@param {type: \"string\"}\n",
        "drive_folder=\"/content/drive/My Drive\" #@param {type: \"string\"}\n",
        "save_gdrive = True #@param {type: \"boolean\"}\n",
        "epochs_gat = 3600 #@param {type: \"number\"}\n",
        "epochs_conv = 200 #@param {type: \"number\"}\n",
        "weight_decay_gat = float(5e-6) #@param {type:\"raw\"}\n",
        "weight_decay_conv = float(1e-5) #@param {type:\"raw\"}\n",
        "pretrained_emb = False #@param {type: \"boolean\"}\n",
        "embedding_size = 50 #@param {type: \"slider\", min: 20, max: 200}\n",
        "lr = float(1e-3) #@param {type:\"raw\"}\n",
        "get_2hop = True #@param {type: \"boolean\"}\n",
        "use_2hop = True #@param {type: \"boolean\"}\n",
        "partial_2hop = False #@param {type: \"boolean\"}\n",
        "\n",
        "#@markdown --- Tham số cho mô hình GAT\n",
        "batch_size_gat = 86835 #@param {type: \"number\"}\n",
        "valid_invalid_ratio_gat = 2 #@param {type: \"slider\", min: 1, max: 10}\n",
        "drop_GAT = 0.3  #@param {type:\"raw\"}\n",
        "alpha = 0.2  #@param {type:\"raw\"}\n",
        "entity_out_dim = [100, 200]  #@param {type:\"raw\"}\n",
        "nheads_GAT = [2, 2]  #@param {type:\"raw\"}\n",
        "margin = 5 #@param {type: \"slider\", min: 1, max: 10}\n",
        "\n",
        "#@markdown --- Tham số cho mô hình ConvKB\n",
        "batch_size_conv = 128  #@param {type: \"slider\", min: 16, max: 512, step:16}\n",
        "alpha_conv = 0.2  #@param {type:\"raw\"}\n",
        "valid_invalid_ratio_conv = 40\n",
        "out_channels = 500 #@param {type: \"slider\", min: 100, max: 1000, step:100}\n",
        "drop_conv = 0.0  #@param {type:\"raw\"}\n",
        "\n",
        "from create_config import Config\n",
        "\n",
        "config = Config(dataset=dataset,data_folder=data_folder,cuda=cuda,output_folder=output_folder,save_gdrive=save_gdrive,drive_folder=drive_folder,epochs_gat=epochs_gat,epochs_conv=epochs_conv,weight_decay_gat=weight_decay_gat,weight_decay_conv=weight_decay_conv,pretrained_emb=pretrained_emb,embedding_size=embedding_size,lr=lr,get_2hop=get_2hop,use_2hop=use_2hop,partial_2hop=partial_2hop,batch_size_gat=batch_size_gat,valid_invalid_ratio_gat=valid_invalid_ratio_gat,drop_GAT=drop_GAT,alpha=alpha,entity_out_dim=entity_out_dim,nheads_GAT=nheads_GAT,margin=margin,batch_size_conv=batch_size_conv,alpha_conv=alpha_conv,valid_invalid_ratio_conv=valid_invalid_ratio_conv,out_channels=out_channels,drop_conv=drop_conv)\n",
        "\n",
        "config.dumps_config()\n",
        "\n",
        "config"
      ],
      "execution_count": null,
      "outputs": [
        {
          "output_type": "execute_result",
          "data": {
            "text/plain": [
              "dataset: WN18\n",
              "data_folder: ./data\n",
              "output_folder: ./output\n",
              "drive_folder: /content/drive/My Drive\n",
              "save_gdrive: True\n",
              "cuda: False\n",
              "epochs_gat: 3600\n",
              "epochs_conv: 200\n",
              "weight_decay_gat: 5e-06\n",
              "weight_decay_conv: 1e-05\n",
              "pretrained_emb: False\n",
              "embedding_size: 50\n",
              "lr: 0.001\n",
              "get_2hop: True\n",
              "use_2hop: True\n",
              "partial_2hop: False\n",
              "batch_size_gat: 86835\n",
              "valid_invalid_ratio_gat: 2\n",
              "drop_GAT: 0.3\n",
              "alpha: 0.2\n",
              "entity_out_dim: [100, 200]\n",
              "nheads_GAT: [2, 2]\n",
              "margin: 5\n",
              "batch_size_conv: 128\n",
              "alpha_conv: 0.2\n",
              "valid_invalid_ratio_conv: 40\n",
              "out_channels: 500\n",
              "drop_conv: 0.0"
            ]
          },
          "metadata": {
            "tags": []
          },
          "execution_count": 7
        }
      ]
    },
    {
      "cell_type": "markdown",
      "metadata": {
        "id": "PuBeOI_J_Znr",
        "colab_type": "text"
      },
      "source": [
        "# II. Create corpus\n"
      ]
    },
    {
      "cell_type": "code",
      "metadata": {
        "id": "8LTr3BOmCz4U",
        "colab_type": "code",
        "colab": {
          "base_uri": "https://localhost:8080/",
          "height": 306
        },
        "outputId": "6b2b65bd-98f1-4b41-8e3f-1e5ac204fe21"
      },
      "source": [
        "%%bash\n",
        "python 1_create_corpus.py"
      ],
      "execution_count": null,
      "outputs": [
        {
          "output_type": "stream",
          "text": [
            "number of unique_entities -> 40943\n",
            "number of unique_entities -> 7802\n",
            "number of unique_entities -> 7845\n",
            "test_triples (5000, 3)\n",
            "test_adjacency_mat (3, 5000)\n",
            "entity2id 40943\n",
            "relation2id 18\n",
            "headTailSelector 18\n",
            "unique_entities_train (40943,) \n",
            "\n",
            "Initialised relations and entities randomly\n",
            "Graph created\n",
            "length of graph keys is  40504\n",
            "time taken  9517.742918252945\n",
            "length of neighbors dict is  40416\n",
            "Total triples count 151442, training triples 141442, validation_triples 5000, test_triples 5000\n",
            "1. Created Corpus Successfully !\n"
          ],
          "name": "stdout"
        }
      ]
    },
    {
      "cell_type": "code",
      "metadata": {
        "id": "MUCx7IBDh1mi",
        "colab_type": "code",
        "colab": {}
      },
      "source": [
        "torch.cuda.max_memory_allocated("
      ],
      "execution_count": null,
      "outputs": []
    },
    {
      "cell_type": "markdown",
      "metadata": {
        "id": "dqzKxVaoqpU8",
        "colab_type": "text"
      },
      "source": [
        "## III. Training GAT encoder"
      ]
    },
    {
      "cell_type": "code",
      "metadata": {
        "id": "evuafQe5ToeB",
        "colab_type": "code",
        "colab": {
          "base_uri": "https://localhost:8080/",
          "height": 51
        },
        "outputId": "306dd87c-fbfc-4e40-9242-6a4a3098ba90"
      },
      "source": [
        "import torch\n",
        "torch.backends.cudnn.deterministic=True\n",
        "print(torch.cuda.memory_allocated())\n",
        "print(torch.cuda.max_memory_allocated())"
      ],
      "execution_count": null,
      "outputs": [
        {
          "output_type": "stream",
          "text": [
            "0\n",
            "0\n"
          ],
          "name": "stdout"
        }
      ]
    },
    {
      "cell_type": "code",
      "metadata": {
        "id": "M9EGIR4bdkvX",
        "colab_type": "code",
        "colab": {}
      },
      "source": [
        "!export CUDA_LAUNCH_BLOCKING=1"
      ],
      "execution_count": null,
      "outputs": []
    },
    {
      "cell_type": "code",
      "metadata": {
        "id": "ZbsiiCXOZSrE",
        "colab_type": "code",
        "colab": {
          "base_uri": "https://localhost:8080/",
          "height": 357
        },
        "outputId": "d243ae26-1bed-407f-d570-52c02106ea17"
      },
      "source": [
        "!nvidia-smi"
      ],
      "execution_count": null,
      "outputs": [
        {
          "output_type": "stream",
          "text": [
            "Mon Sep  7 11:48:18 2020       \n",
            "+-----------------------------------------------------------------------------+\n",
            "| NVIDIA-SMI 450.66       Driver Version: 418.67       CUDA Version: 10.1     |\n",
            "|-------------------------------+----------------------+----------------------+\n",
            "| GPU  Name        Persistence-M| Bus-Id        Disp.A | Volatile Uncorr. ECC |\n",
            "| Fan  Temp  Perf  Pwr:Usage/Cap|         Memory-Usage | GPU-Util  Compute M. |\n",
            "|                               |                      |               MIG M. |\n",
            "|===============================+======================+======================|\n",
            "|   0  Tesla P100-PCIE...  Off  | 00000000:00:04.0 Off |                    0 |\n",
            "| N/A   41C    P0    28W / 250W |     10MiB / 16280MiB |      0%      Default |\n",
            "|                               |                      |                 ERR! |\n",
            "+-------------------------------+----------------------+----------------------+\n",
            "                                                                               \n",
            "+-----------------------------------------------------------------------------+\n",
            "| Processes:                                                                  |\n",
            "|  GPU   GI   CI        PID   Type   Process name                  GPU Memory |\n",
            "|        ID   ID                                                   Usage      |\n",
            "|=============================================================================|\n",
            "|  No running processes found                                                 |\n",
            "+-----------------------------------------------------------------------------+\n"
          ],
          "name": "stdout"
        }
      ]
    },
    {
      "cell_type": "code",
      "metadata": {
        "id": "JDDPBjEy91qU",
        "colab_type": "code",
        "colab": {
          "base_uri": "https://localhost:8080/",
          "height": 1000
        },
        "outputId": "7deb13a9-536e-4229-f6b7-f3c54bb77178"
      },
      "source": [
        "!python 2_training_encoder.py"
      ],
      "execution_count": null,
      "outputs": [
        {
          "output_type": "stream",
          "text": [
            "Loading corpus\n",
            "Defining model\n",
            "Defining loss\n",
            "length of unique_entities  40943\n",
            "Number of epochs 3600\n",
            "\n",
            "epoch->  0\n",
            "tcmalloc: large alloc 1641709568 bytes == 0xb6516000 @  0x7fe533b46b6b 0x7fe533b66379 0x7fe4e82d392e 0x7fe4e82d5946 0x7fe5206b1bb3 0x7fe52016617a 0x7fe520167293 0x7fe520667edf 0x7fe5201f56a6 0x7fe5201f67b0 0x7fe52044d1c9 0x7fe51fdee689 0x7fe52052c919 0x7fe5201f809b 0x7fe5205e2a08 0x7fe51fdee689 0x7fe52052c709 0x7fe5221defc7 0x7fe51fdee689 0x7fe52052c709 0x7fe52fca3a0e 0x50a7f5 0x50cfd6 0x509015 0x594b01 0x59fe1e 0x50d596 0x507f24 0x509202 0x594b01 0x54ac61\n",
            "tcmalloc: large alloc 1641709568 bytes == 0x159686000 @  0x7fe533b46b6b 0x7fe533b66379 0x7fe4e82d392e 0x7fe4e82d5946 0x7fe5206b1bb3 0x7fe52016617a 0x7fe520167293 0x7fe520667edf 0x7fe5201f56a6 0x7fe5201f67b0 0x7fe52044d1c9 0x7fe51fdee689 0x7fe52052c919 0x7fe5201f809b 0x7fe5205e2a08 0x7fe51fdee689 0x7fe52052c709 0x7fe5221defc7 0x7fe51fdee689 0x7fe52052c709 0x7fe52fca3a0e 0x50a7f5 0x50cfd6 0x509015 0x594b01 0x59fe1e 0x50d596 0x507f24 0x509202 0x594b01 0x54ac61\n",
            "tcmalloc: large alloc 2075795456 bytes == 0x1dc6ce000 @  0x7fe533b46b6b 0x7fe533b66379 0x7fe4e82d392e 0x7fe4e82d5946 0x7fe5201c69e5 0x7fe52044baf3 0x7fe52043cf97 0x7fe52043cc7d 0x7fe52043cf97 0x7fe520547a1a 0x7fe5201d74f8 0x7fe5201d9166 0x7fe5201d965d 0x7fe52019bd2b 0x7fe5205e6f4c 0x7fe5206169a3 0x7fe52052d45c 0x7fe52219ed2c 0x7fe5206169a3 0x7fe52069fccc 0x7fe52fe807f4 0x7fe52fe82d41 0x50c4de 0x507f24 0x509202 0x594b01 0x59fe1e 0x50d596 0x507f24 0x509202 0x594b01\n",
            "tcmalloc: large alloc 2075795456 bytes == 0x258270000 @  0x7fe533b46b6b 0x7fe533b66379 0x7fe4e82d392e 0x7fe4e82d5946 0x7fe5201c69e5 0x7fe52044baf3 0x7fe52043cf97 0x7fe52043cc7d 0x7fe52043cf97 0x7fe520547a1a 0x7fe5201d74f8 0x7fe5201d9166 0x7fe5201d965d 0x7fe52019bd2b 0x7fe5205e6f4c 0x7fe5206169a3 0x7fe52052d45c 0x7fe52219ed2c 0x7fe5206169a3 0x7fe52069fccc 0x7fe52fe807f4 0x7fe52fe82d41 0x50c4de 0x507f24 0x509202 0x594b01 0x59fe1e 0x50d596 0x507f24 0x509202 0x594b01\n",
            "tcmalloc: large alloc 2075795456 bytes == 0x2d3e12000 @  0x7fe533b46b6b 0x7fe533b66379 0x7fe4e82d392e 0x7fe4e82d5946 0x7fe5201c69e5 0x7fe52044baf3 0x7fe52043cf97 0x7fe52043cc7d 0x7fe52043cf97 0x7fe520547a1a 0x7fe5201d4f8a 0x7fe5201d8ff6 0x7fe5201d965d 0x7fe5201d980a 0x7fe51ff16717 0x7fe52044b689 0x7fe51fdee254 0x7fe52051e583 0x7fe5221dd081 0x7fe51fdee254 0x7fe520691f73 0x7fe52fb6efd2 0x7fe52fb6f956 0x567193 0x59fe1e 0x4b1eea 0x619d4b 0x59eedf 0x50c944 0x507f24 0x509202\n",
            "tcmalloc: large alloc 2188943360 bytes == 0x1dc6ce000 @  0x7fe533b46b6b 0x7fe533b66379 0x7fe4e82d392e 0x7fe4e82d5946 0x7fe5206b1bb3 0x7fe52016617a 0x7fe520167293 0x7fe520667edf 0x7fe5201f56a6 0x7fe5201f67b0 0x7fe52044d1c9 0x7fe51fdee689 0x7fe52052c919 0x7fe5201f809b 0x7fe5205e2a08 0x7fe51fdee689 0x7fe52052c709 0x7fe5221defc7 0x7fe51fdee689 0x7fe52052c709 0x7fe52fca3a0e 0x50a7f5 0x50cfd6 0x509015 0x594b01 0x59fe1e 0x50d596 0x507f24 0x509202 0x594b01 0x54ac61\n",
            "tcmalloc: large alloc 2188943360 bytes == 0x34f9b4000 @  0x7fe533b46b6b 0x7fe533b66379 0x7fe4e82d392e 0x7fe4e82d5946 0x7fe5201c69e5 0x7fe52044baf3 0x7fe52043cf97 0x7fe52043cc7d 0x7fe52043cf97 0x7fe520547a1a 0x7fe5201d74f8 0x7fe5201d9166 0x7fe5201d965d 0x7fe52019bd2b 0x7fe5205e6f4c 0x7fe5206169a3 0x7fe52052d45c 0x7fe52219ed2c 0x7fe5206169a3 0x7fe52069fccc 0x7fe52fe807f4 0x7fe52fe82d41 0x50c4de 0x509015 0x594b01 0x59fe1e 0x50d596 0x507f24 0x509202 0x594b01 0x54ac61\n",
            "tcmalloc: large alloc 6566830080 bytes == 0x49d078000 @  0x7fe533b46b6b 0x7fe533b66379 0x7fe4e82d392e 0x7fe4e82d5946 0x7fe5206b1bb3 0x7fe52016617a 0x7fe520167293 0x7fe520667edf 0x7fe5201f56a6 0x7fe5201f67b0 0x7fe52044d1c9 0x7fe51fdee689 0x7fe52052c919 0x7fe5201f809b 0x7fe5205e2a08 0x7fe51fdee689 0x7fe52052c709 0x7fe5221defc7 0x7fe51fdee689 0x7fe52052c709 0x7fe52fca3a0e 0x50a7f5 0x50cfd6 0x509015 0x594b01 0x59fe1e 0x50d596 0x507f24 0x509202 0x594b01 0x54ac61\n",
            "tcmalloc: large alloc 6566830080 bytes == 0x1dc6ce000 @  0x7fe533b46b6b 0x7fe533b66379 0x7fe4e82d392e 0x7fe4e82d5946 0x7fe5206b1bb3 0x7fe52016617a 0x7fe520167293 0x7fe520667edf 0x7fe520026280 0x7fe5200268e0 0x7fe52044bf59 0x7fe51fda9530 0x7fe52059181c 0x7fe5204e26ab 0x7fe522223a2f 0x7fe51fda9530 0x7fe52059181c 0x7fe520677cab 0x7fe522064fbb 0x7fe5220807df 0x7fe5226c8bb7 0x7fe5226c4400 0x7fe5226c4fa1 0x7fe5226c26bc 0x7fe52fe5d76c 0x7fe5226c19f3 0x7fe52fe5d56e 0x7fe52fe5e254 0x50a7f5 0x50cfd6 0x507f24\n",
            "Iteration-> 0  , Iteration_time-> 73.2165 , Iteration_loss 4.8460\n",
            "tcmalloc: large alloc 6566830080 bytes == 0x1dc6ce000 @  0x7fe533b46b6b 0x7fe533b66379 0x7fe4e82d392e 0x7fe4e82d5946 0x7fe5206b1bb3 0x7fe52016617a 0x7fe520167293 0x7fe520667edf 0x7fe5201f56a6 0x7fe5201f67b0 0x7fe52044d1c9 0x7fe51fdee689 0x7fe52052c919 0x7fe5201f809b 0x7fe5205e2a08 0x7fe51fdee689 0x7fe52052c709 0x7fe5221defc7 0x7fe51fdee689 0x7fe52052c709 0x7fe52fca3a0e 0x50a7f5 0x50cfd6 0x509015 0x594b01 0x59fe1e 0x50d596 0x507f24 0x509202 0x594b01 0x54ac61\n",
            "tcmalloc: large alloc 6566830080 bytes == 0x41a8ee000 @  0x7fe533b46b6b 0x7fe533b66379 0x7fe4e82d392e 0x7fe4e82d5946 0x7fe5206b1bb3 0x7fe52016617a 0x7fe520167293 0x7fe520667edf 0x7fe520026280 0x7fe5200268e0 0x7fe52044bf59 0x7fe51fda9530 0x7fe52059181c 0x7fe5204e26ab 0x7fe522223a2f 0x7fe51fda9530 0x7fe52059181c 0x7fe520677cab 0x7fe522064fbb 0x7fe5220807df 0x7fe5226c8bb7 0x7fe5226c4400 0x7fe5226c4fa1 0x7fe5226c26bc 0x7fe52fe5d76c 0x7fe5226c19f3 0x7fe52fe5d56e 0x7fe52fe5e254 0x50a7f5 0x50cfd6 0x507f24\n",
            "Iteration-> 1  , Iteration_time-> 75.3965 , Iteration_loss 4.4642\n",
            "Epoch 0 , average loss 4.655107021331787 , epoch_time 148.61326909065247\n",
            "\n",
            "epoch->  1\n",
            "tcmalloc: large alloc 6566830080 bytes == 0x1dc6ce000 @  0x7fe533b46b6b 0x7fe533b66379 0x7fe4e82d392e 0x7fe4e82d5946 0x7fe5206b1bb3 0x7fe52016617a 0x7fe520167293 0x7fe520667edf 0x7fe5201f56a6 0x7fe5201f67b0 0x7fe52044d1c9 0x7fe51fdee689 0x7fe52052c919 0x7fe5201f809b 0x7fe5205e2a08 0x7fe51fdee689 0x7fe52052c709 0x7fe5221defc7 0x7fe51fdee689 0x7fe52052c709 0x7fe52fca3a0e 0x50a7f5 0x50cfd6 0x509015 0x594b01 0x59fe1e 0x50d596 0x507f24 0x509202 0x594b01 0x54ac61\n",
            "tcmalloc: large alloc 6566830080 bytes == 0x41a8ee000 @  0x7fe533b46b6b 0x7fe533b66379 0x7fe4e82d392e 0x7fe4e82d5946 0x7fe5206b1bb3 0x7fe52016617a 0x7fe520167293 0x7fe520667edf 0x7fe520026280 0x7fe5200268e0 0x7fe52044bf59 0x7fe51fda9530 0x7fe52059181c 0x7fe5204e26ab 0x7fe522223a2f 0x7fe51fda9530 0x7fe52059181c 0x7fe520677cab 0x7fe522064fbb 0x7fe5220807df 0x7fe5226c8bb7 0x7fe5226c4400 0x7fe5226c4fa1 0x7fe5226c26bc 0x7fe52fe5d76c 0x7fe5226c19f3 0x7fe52fe5d56e 0x7fe52fe5e254 0x50a7f5 0x50cfd6 0x507f24\n",
            "Iteration-> 0  , Iteration_time-> 70.6816 , Iteration_loss 4.1576\n",
            "tcmalloc: large alloc 6566830080 bytes == 0x1dc6ce000 @  0x7fe533b46b6b 0x7fe533b66379 0x7fe4e82d392e 0x7fe4e82d5946 0x7fe5206b1bb3 0x7fe52016617a 0x7fe520167293 0x7fe520667edf 0x7fe5201f56a6 0x7fe5201f67b0 0x7fe52044d1c9 0x7fe51fdee689 0x7fe52052c919 0x7fe5201f809b 0x7fe5205e2a08 0x7fe51fdee689 0x7fe52052c709 0x7fe5221defc7 0x7fe51fdee689 0x7fe52052c709 0x7fe52fca3a0e 0x50a7f5 0x50cfd6 0x509015 0x594b01 0x59fe1e 0x50d596 0x507f24 0x509202 0x594b01 0x54ac61\n",
            "tcmalloc: large alloc 6566830080 bytes == 0x41a8ee000 @  0x7fe533b46b6b 0x7fe533b66379 0x7fe4e82d392e 0x7fe4e82d5946 0x7fe5206b1bb3 0x7fe52016617a 0x7fe520167293 0x7fe520667edf 0x7fe520026280 0x7fe5200268e0 0x7fe52044bf59 0x7fe51fda9530 0x7fe52059181c 0x7fe5204e26ab 0x7fe522223a2f 0x7fe51fda9530 0x7fe52059181c 0x7fe520677cab 0x7fe522064fbb 0x7fe5220807df 0x7fe5226c8bb7 0x7fe5226c4400 0x7fe5226c4fa1 0x7fe5226c26bc 0x7fe52fe5d76c 0x7fe5226c19f3 0x7fe52fe5d56e 0x7fe52fe5e254 0x50a7f5 0x50cfd6 0x507f24\n",
            "Iteration-> 1  , Iteration_time-> 67.3012 , Iteration_loss 3.9363\n",
            "Epoch 1 , average loss 4.04697048664093 , epoch_time 137.98308897018433\n",
            "\n",
            "epoch->  2\n",
            "tcmalloc: large alloc 6566830080 bytes == 0x1dc6ce000 @  0x7fe533b46b6b 0x7fe533b66379 0x7fe4e82d392e 0x7fe4e82d5946 0x7fe5206b1bb3 0x7fe52016617a 0x7fe520167293 0x7fe520667edf 0x7fe5201f56a6 0x7fe5201f67b0 0x7fe52044d1c9 0x7fe51fdee689 0x7fe52052c919 0x7fe5201f809b 0x7fe5205e2a08 0x7fe51fdee689 0x7fe52052c709 0x7fe5221defc7 0x7fe51fdee689 0x7fe52052c709 0x7fe52fca3a0e 0x50a7f5 0x50cfd6 0x509015 0x594b01 0x59fe1e 0x50d596 0x507f24 0x509202 0x594b01 0x54ac61\n",
            "Iteration-> 0  , Iteration_time-> 66.6473 , Iteration_loss 3.7776\n",
            "Iteration-> 1  , Iteration_time-> 65.8198 , Iteration_loss 3.6635\n",
            "Epoch 2 , average loss 3.7205063104629517 , epoch_time 132.46740460395813\n",
            "\n",
            "epoch->  3\n",
            "Iteration-> 0  , Iteration_time-> 70.7240 , Iteration_loss 3.5307\n",
            "Iteration-> 1  , Iteration_time-> 67.1565 , Iteration_loss 3.4782\n",
            "Epoch 3 , average loss 3.504443407058716 , epoch_time 137.88072395324707\n",
            "\n",
            "epoch->  4\n",
            "Iteration-> 0  , Iteration_time-> 67.5859 , Iteration_loss 3.3485\n",
            "Iteration-> 1  , Iteration_time-> 65.8967 , Iteration_loss 3.2833\n",
            "Epoch 4 , average loss 3.315935492515564 , epoch_time 133.4827859401703\n",
            "\n",
            "epoch->  5\n",
            "Iteration-> 0  , Iteration_time-> 67.7744 , Iteration_loss 3.1606\n",
            "Iteration-> 1  , Iteration_time-> 67.1093 , Iteration_loss 3.1274\n",
            "Epoch 5 , average loss 3.1440011262893677 , epoch_time 134.8839831352234\n",
            "\n",
            "epoch->  6\n",
            "Iteration-> 0  , Iteration_time-> 67.0750 , Iteration_loss 3.0169\n",
            "Iteration-> 1  , Iteration_time-> 65.9838 , Iteration_loss 2.9989\n",
            "Epoch 6 , average loss 3.007898211479187 , epoch_time 133.0590124130249\n",
            "\n",
            "epoch->  7\n",
            "Iteration-> 0  , Iteration_time-> 67.4446 , Iteration_loss 2.9002\n",
            "Iteration-> 1  , Iteration_time-> 65.8348 , Iteration_loss 2.8688\n",
            "Epoch 7 , average loss 2.884517192840576 , epoch_time 133.27958607673645\n",
            "\n",
            "epoch->  8\n",
            "Iteration-> 0  , Iteration_time-> 68.0121 , Iteration_loss 2.7830\n",
            "Iteration-> 1  , Iteration_time-> 67.4412 , Iteration_loss 2.7678\n",
            "Epoch 8 , average loss 2.7753922939300537 , epoch_time 135.45344471931458\n",
            "\n",
            "epoch->  9\n",
            "Iteration-> 0  , Iteration_time-> 67.1301 , Iteration_loss 2.6817\n",
            "Iteration-> 1  , Iteration_time-> 65.8352 , Iteration_loss 2.6820\n",
            "Epoch 9 , average loss 2.681872010231018 , epoch_time 132.96552109718323\n",
            "\n",
            "epoch->  10\n",
            "Iteration-> 0  , Iteration_time-> 67.0426 , Iteration_loss 2.6080\n",
            "Iteration-> 1  , Iteration_time-> 68.0050 , Iteration_loss 2.6274\n",
            "Epoch 10 , average loss 2.6176897287368774 , epoch_time 135.04784059524536\n",
            "\n",
            "epoch->  11\n",
            "Iteration-> 0  , Iteration_time-> 68.7222 , Iteration_loss 2.5481\n",
            "Iteration-> 1  , Iteration_time-> 67.0335 , Iteration_loss 2.5648\n",
            "Epoch 11 , average loss 2.556487560272217 , epoch_time 135.75581312179565\n",
            "\n",
            "epoch->  12\n",
            "Iteration-> 0  , Iteration_time-> 66.9345 , Iteration_loss 2.4797\n",
            "Iteration-> 1  , Iteration_time-> 66.8811 , Iteration_loss 2.5043\n",
            "Epoch 12 , average loss 2.4920217990875244 , epoch_time 133.81581735610962\n",
            "\n",
            "epoch->  13\n",
            "Iteration-> 0  , Iteration_time-> 67.7522 , Iteration_loss 2.4298\n",
            "Iteration-> 1  , Iteration_time-> 65.7726 , Iteration_loss 2.4595\n",
            "Epoch 13 , average loss 2.4446362257003784 , epoch_time 133.5250494480133\n",
            "\n",
            "epoch->  14\n",
            "Iteration-> 0  , Iteration_time-> 67.4818 , Iteration_loss 2.3782\n",
            "Iteration-> 1  , Iteration_time-> 65.9782 , Iteration_loss 2.4040\n",
            "Epoch 14 , average loss 2.3911163806915283 , epoch_time 133.4601902961731\n",
            "\n",
            "epoch->  15\n",
            "Iteration-> 0  , Iteration_time-> 67.2993 , Iteration_loss 2.3335\n",
            "Iteration-> 1  , Iteration_time-> 66.2972 , Iteration_loss 2.3770\n",
            "Epoch 15 , average loss 2.3552324771881104 , epoch_time 133.59674644470215\n",
            "\n",
            "epoch->  16\n",
            "Iteration-> 0  , Iteration_time-> 67.7617 , Iteration_loss 2.2993\n",
            "Iteration-> 1  , Iteration_time-> 66.1565 , Iteration_loss 2.3295\n",
            "Epoch 16 , average loss 2.314428448677063 , epoch_time 133.9184591770172\n",
            "\n",
            "epoch->  17\n",
            "Iteration-> 0  , Iteration_time-> 66.7190 , Iteration_loss 2.2608\n",
            "Iteration-> 1  , Iteration_time-> 65.8885 , Iteration_loss 2.3055\n",
            "Epoch 17 , average loss 2.2831352949142456 , epoch_time 132.60791182518005\n",
            "\n",
            "epoch->  18\n",
            "Iteration-> 0  , Iteration_time-> 66.3647 , Iteration_loss 2.2283\n",
            "Iteration-> 1  , Iteration_time-> 65.4581 , Iteration_loss 2.2821\n",
            "Epoch 18 , average loss 2.255189061164856 , epoch_time 131.8229489326477\n",
            "\n",
            "epoch->  19\n",
            "Iteration-> 0  , Iteration_time-> 65.9067 , Iteration_loss 2.1920\n",
            "Iteration-> 1  , Iteration_time-> 65.8281 , Iteration_loss 2.2346\n",
            "Epoch 19 , average loss 2.213326930999756 , epoch_time 131.73506498336792\n",
            "\n",
            "epoch->  20\n",
            "Iteration-> 0  , Iteration_time-> 66.5268 , Iteration_loss 2.1696\n",
            "Iteration-> 1  , Iteration_time-> 65.5224 , Iteration_loss 2.2270\n",
            "Epoch 20 , average loss 2.1983052492141724 , epoch_time 132.04939889907837\n",
            "\n",
            "epoch->  21\n",
            "Iteration-> 0  , Iteration_time-> 66.8345 , Iteration_loss 2.1545\n",
            "Iteration-> 1  , Iteration_time-> 65.8064 , Iteration_loss 2.2063\n",
            "Epoch 21 , average loss 2.180407404899597 , epoch_time 132.6410403251648\n",
            "\n",
            "epoch->  22\n",
            "Iteration-> 0  , Iteration_time-> 66.4752 , Iteration_loss 2.1272\n",
            "Iteration-> 1  , Iteration_time-> 65.5753 , Iteration_loss 2.1862\n",
            "Epoch 22 , average loss 2.156730532646179 , epoch_time 132.0506272315979\n",
            "\n",
            "epoch->  23\n",
            "Iteration-> 0  , Iteration_time-> 66.3563 , Iteration_loss 2.1053\n",
            "Iteration-> 1  , Iteration_time-> 65.3377 , Iteration_loss 2.1570\n",
            "Epoch 23 , average loss 2.1311488151550293 , epoch_time 131.69423365592957\n",
            "\n",
            "epoch->  24\n",
            "Iteration-> 0  , Iteration_time-> 66.2383 , Iteration_loss 2.0696\n",
            "Iteration-> 1  , Iteration_time-> 65.9146 , Iteration_loss 2.1447\n",
            "Epoch 24 , average loss 2.107124447822571 , epoch_time 132.15318489074707\n",
            "\n",
            "epoch->  25\n",
            "Iteration-> 0  , Iteration_time-> 66.6237 , Iteration_loss 2.0671\n",
            "Iteration-> 1  , Iteration_time-> 65.3848 , Iteration_loss 2.1350\n",
            "Epoch 25 , average loss 2.1010643243789673 , epoch_time 132.00872707366943\n",
            "\n",
            "epoch->  26\n",
            "Iteration-> 0  , Iteration_time-> 66.3234 , Iteration_loss 2.0494\n",
            "Iteration-> 1  , Iteration_time-> 65.8790 , Iteration_loss 2.1033\n",
            "Epoch 26 , average loss 2.07634437084198 , epoch_time 132.20262956619263\n",
            "\n",
            "epoch->  27\n",
            "Iteration-> 0  , Iteration_time-> 66.0165 , Iteration_loss 2.0196\n",
            "Iteration-> 1  , Iteration_time-> 65.3817 , Iteration_loss 2.0900\n",
            "Epoch 27 , average loss 2.0548146963119507 , epoch_time 131.3984889984131\n",
            "\n",
            "epoch->  28\n",
            "Iteration-> 0  , Iteration_time-> 66.4716 , Iteration_loss 2.0056\n",
            "Iteration-> 1  , Iteration_time-> 65.7185 , Iteration_loss 2.0673\n",
            "Epoch 28 , average loss 2.0364203453063965 , epoch_time 132.19025015830994\n",
            "\n",
            "epoch->  29\n",
            "Iteration-> 0  , Iteration_time-> 66.8490 , Iteration_loss 1.9941\n",
            "Iteration-> 1  , Iteration_time-> 65.9069 , Iteration_loss 2.0541\n",
            "Epoch 29 , average loss 2.024092435836792 , epoch_time 132.75608110427856\n",
            "\n",
            "epoch->  30\n",
            "Iteration-> 0  , Iteration_time-> 68.5414 , Iteration_loss 1.9840\n",
            "Iteration-> 1  , Iteration_time-> 65.7680 , Iteration_loss 2.0324\n",
            "Epoch 30 , average loss 2.0082053542137146 , epoch_time 134.309579372406\n",
            "\n",
            "epoch->  31\n",
            "Iteration-> 0  , Iteration_time-> 67.0883 , Iteration_loss 1.9624\n",
            "Iteration-> 1  , Iteration_time-> 66.0002 , Iteration_loss 2.0251\n",
            "Epoch 31 , average loss 1.9937760829925537 , epoch_time 133.08874559402466\n",
            "\n",
            "epoch->  32\n",
            "Iteration-> 0  , Iteration_time-> 66.6343 , Iteration_loss 1.9355\n",
            "Iteration-> 1  , Iteration_time-> 65.4927 , Iteration_loss 2.0045\n",
            "Epoch 32 , average loss 1.969982922077179 , epoch_time 132.12731051445007\n",
            "\n",
            "epoch->  33\n",
            "Iteration-> 0  , Iteration_time-> 66.4829 , Iteration_loss 1.9261\n",
            "Iteration-> 1  , Iteration_time-> 65.9253 , Iteration_loss 2.0004\n",
            "Epoch 33 , average loss 1.963282585144043 , epoch_time 132.4083480834961\n",
            "\n",
            "epoch->  34\n",
            "Iteration-> 0  , Iteration_time-> 66.5013 , Iteration_loss 1.9170\n",
            "Iteration-> 1  , Iteration_time-> 66.0549 , Iteration_loss 1.9758\n",
            "Epoch 34 , average loss 1.946440041065216 , epoch_time 132.556396484375\n",
            "\n",
            "epoch->  35\n",
            "Iteration-> 0  , Iteration_time-> 66.9746 , Iteration_loss 1.8988\n",
            "Iteration-> 1  , Iteration_time-> 66.0696 , Iteration_loss 1.9587\n",
            "Epoch 35 , average loss 1.928745985031128 , epoch_time 133.0444257259369\n",
            "\n",
            "epoch->  36\n",
            "Iteration-> 0  , Iteration_time-> 67.3089 , Iteration_loss 1.8781\n",
            "Iteration-> 1  , Iteration_time-> 65.6045 , Iteration_loss 1.9562\n",
            "Epoch 36 , average loss 1.917135238647461 , epoch_time 132.91356229782104\n",
            "\n",
            "epoch->  37\n",
            "Iteration-> 0  , Iteration_time-> 66.7665 , Iteration_loss 1.8837\n",
            "Iteration-> 1  , Iteration_time-> 65.8130 , Iteration_loss 1.9360\n",
            "Epoch 37 , average loss 1.90985906124115 , epoch_time 132.57971477508545\n",
            "\n",
            "epoch->  38\n",
            "Iteration-> 0  , Iteration_time-> 66.5995 , Iteration_loss 1.8613\n",
            "Iteration-> 1  , Iteration_time-> 65.7412 , Iteration_loss 1.9278\n",
            "Epoch 38 , average loss 1.8945457935333252 , epoch_time 132.34096455574036\n",
            "\n",
            "epoch->  39\n",
            "Iteration-> 0  , Iteration_time-> 66.2774 , Iteration_loss 1.8543\n",
            "Iteration-> 1  , Iteration_time-> 65.3313 , Iteration_loss 1.9137\n",
            "Epoch 39 , average loss 1.883956491947174 , epoch_time 131.60889410972595\n",
            "\n",
            "epoch->  40\n",
            "Iteration-> 0  , Iteration_time-> 66.3380 , Iteration_loss 1.8385\n",
            "Iteration-> 1  , Iteration_time-> 65.6190 , Iteration_loss 1.9085\n",
            "Epoch 40 , average loss 1.8734927773475647 , epoch_time 131.95714902877808\n",
            "\n",
            "epoch->  41\n",
            "Iteration-> 0  , Iteration_time-> 66.2016 , Iteration_loss 1.8329\n",
            "Iteration-> 1  , Iteration_time-> 65.2209 , Iteration_loss 1.8976\n",
            "Epoch 41 , average loss 1.8652353882789612 , epoch_time 131.4226508140564\n",
            "\n",
            "epoch->  42\n",
            "Iteration-> 0  , Iteration_time-> 67.0166 , Iteration_loss 1.8261\n",
            "Iteration-> 1  , Iteration_time-> 65.5526 , Iteration_loss 1.8848\n",
            "Epoch 42 , average loss 1.855459988117218 , epoch_time 132.56939363479614\n",
            "\n",
            "epoch->  43\n",
            "Iteration-> 0  , Iteration_time-> 66.7602 , Iteration_loss 1.8096\n",
            "Iteration-> 1  , Iteration_time-> 65.1232 , Iteration_loss 1.8718\n",
            "Epoch 43 , average loss 1.8406806588172913 , epoch_time 131.88352131843567\n",
            "\n",
            "epoch->  44\n",
            "Iteration-> 0  , Iteration_time-> 66.3924 , Iteration_loss 1.8064\n",
            "Iteration-> 1  , Iteration_time-> 65.7836 , Iteration_loss 1.8597\n",
            "Epoch 44 , average loss 1.8330617547035217 , epoch_time 132.1761932373047\n",
            "\n",
            "epoch->  45\n",
            "Iteration-> 0  , Iteration_time-> 66.2813 , Iteration_loss 1.7833\n",
            "Iteration-> 1  , Iteration_time-> 65.6239 , Iteration_loss 1.8502\n",
            "Epoch 45 , average loss 1.8167253732681274 , epoch_time 131.90531945228577\n",
            "\n",
            "epoch->  46\n",
            "Iteration-> 0  , Iteration_time-> 66.3263 , Iteration_loss 1.7854\n",
            "Iteration-> 1  , Iteration_time-> 65.3912 , Iteration_loss 1.8403\n",
            "Epoch 46 , average loss 1.8128763437271118 , epoch_time 131.71782422065735\n",
            "\n",
            "epoch->  47\n",
            "Iteration-> 0  , Iteration_time-> 66.5446 , Iteration_loss 1.7643\n",
            "Iteration-> 1  , Iteration_time-> 65.9642 , Iteration_loss 1.8289\n",
            "Epoch 47 , average loss 1.796627938747406 , epoch_time 132.5090410709381\n",
            "\n",
            "epoch->  48\n",
            "Iteration-> 0  , Iteration_time-> 66.9274 , Iteration_loss 1.7501\n",
            "Iteration-> 1  , Iteration_time-> 65.7642 , Iteration_loss 1.8250\n",
            "Epoch 48 , average loss 1.787510633468628 , epoch_time 132.69184803962708\n",
            "\n",
            "epoch->  49\n",
            "Iteration-> 0  , Iteration_time-> 66.8948 , Iteration_loss 1.7380\n",
            "Iteration-> 1  , Iteration_time-> 68.7884 , Iteration_loss 1.8088\n",
            "Epoch 49 , average loss 1.773399531841278 , epoch_time 135.68337512016296\n",
            "\n",
            "epoch->  50\n",
            "Iteration-> 0  , Iteration_time-> 66.7309 , Iteration_loss 1.7348\n",
            "Iteration-> 1  , Iteration_time-> 66.9986 , Iteration_loss 1.7964\n",
            "Epoch 50 , average loss 1.765606939792633 , epoch_time 133.7296483516693\n",
            "\n",
            "epoch->  51\n",
            "Iteration-> 0  , Iteration_time-> 66.5408 , Iteration_loss 1.7100\n",
            "Iteration-> 1  , Iteration_time-> 65.5858 , Iteration_loss 1.7937\n",
            "Epoch 51 , average loss 1.7518508434295654 , epoch_time 132.12673544883728\n",
            "\n",
            "epoch->  52\n",
            "Iteration-> 0  , Iteration_time-> 65.9196 , Iteration_loss 1.7052\n",
            "Iteration-> 1  , Iteration_time-> 66.5810 , Iteration_loss 1.7696\n",
            "Epoch 52 , average loss 1.7373774647712708 , epoch_time 132.5007495880127\n",
            "\n",
            "epoch->  53\n",
            "Iteration-> 0  , Iteration_time-> 66.2870 , Iteration_loss 1.6949\n",
            "Iteration-> 1  , Iteration_time-> 65.9074 , Iteration_loss 1.7706\n",
            "Epoch 53 , average loss 1.7327478528022766 , epoch_time 132.19477701187134\n",
            "\n",
            "epoch->  54\n",
            "Iteration-> 0  , Iteration_time-> 67.2176 , Iteration_loss 1.6915\n",
            "Iteration-> 1  , Iteration_time-> 66.2344 , Iteration_loss 1.7589\n",
            "Epoch 54 , average loss 1.7251754403114319 , epoch_time 133.45225644111633\n",
            "\n",
            "epoch->  55\n",
            "Iteration-> 0  , Iteration_time-> 67.2156 , Iteration_loss 1.6799\n",
            "Iteration-> 1  , Iteration_time-> 66.1612 , Iteration_loss 1.7572\n",
            "Epoch 55 , average loss 1.7185541987419128 , epoch_time 133.37697529792786\n",
            "\n",
            "epoch->  56\n",
            "Iteration-> 0  , Iteration_time-> 67.3335 , Iteration_loss 1.6679\n",
            "Iteration-> 1  , Iteration_time-> 65.6696 , Iteration_loss 1.7251\n",
            "Epoch 56 , average loss 1.6965055465698242 , epoch_time 133.00332951545715\n",
            "\n",
            "epoch->  57\n",
            "Iteration-> 0  , Iteration_time-> 66.7169 , Iteration_loss 1.6527\n",
            "Iteration-> 1  , Iteration_time-> 65.6239 , Iteration_loss 1.7093\n",
            "Epoch 57 , average loss 1.6810415387153625 , epoch_time 132.34094619750977\n",
            "\n",
            "epoch->  58\n",
            "Iteration-> 0  , Iteration_time-> 66.6018 , Iteration_loss 1.6423\n",
            "Iteration-> 1  , Iteration_time-> 68.7717 , Iteration_loss 1.6995\n",
            "Epoch 58 , average loss 1.6708739399909973 , epoch_time 135.37363982200623\n",
            "\n",
            "epoch->  59\n",
            "Iteration-> 0  , Iteration_time-> 67.7196 , Iteration_loss 1.6217\n",
            "Iteration-> 1  , Iteration_time-> 66.4318 , Iteration_loss 1.6878\n",
            "Epoch 59 , average loss 1.6547836065292358 , epoch_time 134.1516396999359\n",
            "\n",
            "epoch->  60\n",
            "Iteration-> 0  , Iteration_time-> 66.4965 , Iteration_loss 1.6059\n",
            "Iteration-> 1  , Iteration_time-> 65.5341 , Iteration_loss 1.6730\n",
            "Epoch 60 , average loss 1.6394914388656616 , epoch_time 132.03071975708008\n",
            "\n",
            "epoch->  61\n",
            "Iteration-> 0  , Iteration_time-> 66.3218 , Iteration_loss 1.5881\n",
            "Iteration-> 1  , Iteration_time-> 65.4927 , Iteration_loss 1.6721\n",
            "Epoch 61 , average loss 1.6300790309906006 , epoch_time 131.8148856163025\n",
            "\n",
            "epoch->  62\n",
            "Iteration-> 0  , Iteration_time-> 66.2700 , Iteration_loss 1.5838\n",
            "Iteration-> 1  , Iteration_time-> 68.2589 , Iteration_loss 1.6406\n",
            "Epoch 62 , average loss 1.6121727228164673 , epoch_time 134.52914309501648\n",
            "\n",
            "epoch->  63\n",
            "Iteration-> 0  , Iteration_time-> 67.0808 , Iteration_loss 1.5701\n",
            "Iteration-> 1  , Iteration_time-> 66.6000 , Iteration_loss 1.6332\n",
            "Epoch 63 , average loss 1.6016855239868164 , epoch_time 133.68100762367249\n",
            "\n",
            "epoch->  64\n",
            "Iteration-> 0  , Iteration_time-> 66.5959 , Iteration_loss 1.5603\n",
            "Iteration-> 1  , Iteration_time-> 66.2476 , Iteration_loss 1.6185\n",
            "Epoch 64 , average loss 1.58944433927536 , epoch_time 132.8436131477356\n",
            "\n",
            "epoch->  65\n",
            "Iteration-> 0  , Iteration_time-> 66.3699 , Iteration_loss 1.5497\n",
            "Iteration-> 1  , Iteration_time-> 65.7385 , Iteration_loss 1.6167\n",
            "Epoch 65 , average loss 1.5831883549690247 , epoch_time 132.10858583450317\n",
            "\n",
            "epoch->  66\n",
            "Iteration-> 0  , Iteration_time-> 66.8845 , Iteration_loss 1.5444\n",
            "Iteration-> 1  , Iteration_time-> 66.7087 , Iteration_loss 1.6014\n",
            "Epoch 66 , average loss 1.5728830099105835 , epoch_time 133.5934066772461\n",
            "\n",
            "epoch->  67\n",
            "Iteration-> 0  , Iteration_time-> 67.0924 , Iteration_loss 1.5312\n",
            "Iteration-> 1  , Iteration_time-> 66.7621 , Iteration_loss 1.5807\n",
            "Epoch 67 , average loss 1.5559616088867188 , epoch_time 133.85468745231628\n",
            "\n",
            "epoch->  68\n",
            "Iteration-> 0  , Iteration_time-> 67.3640 , Iteration_loss 1.5163\n",
            "Iteration-> 1  , Iteration_time-> 65.8770 , Iteration_loss 1.5791\n",
            "Epoch 68 , average loss 1.5476826429367065 , epoch_time 133.2411811351776\n",
            "\n",
            "epoch->  69\n",
            "Iteration-> 0  , Iteration_time-> 66.4023 , Iteration_loss 1.4998\n",
            "Iteration-> 1  , Iteration_time-> 65.3052 , Iteration_loss 1.5754\n",
            "Epoch 69 , average loss 1.5376120209693909 , epoch_time 131.70770931243896\n",
            "\n",
            "epoch->  70\n",
            "Iteration-> 0  , Iteration_time-> 66.4556 , Iteration_loss 1.5016\n",
            "Iteration-> 1  , Iteration_time-> 65.3961 , Iteration_loss 1.5574\n",
            "Epoch 70 , average loss 1.5294697284698486 , epoch_time 131.85190844535828\n",
            "\n",
            "epoch->  71\n",
            "Iteration-> 0  , Iteration_time-> 66.7699 , Iteration_loss 1.4790\n",
            "Iteration-> 1  , Iteration_time-> 66.5654 , Iteration_loss 1.5552\n",
            "Epoch 71 , average loss 1.5170945525169373 , epoch_time 133.33551931381226\n",
            "\n",
            "epoch->  72\n",
            "Iteration-> 0  , Iteration_time-> 67.4537 , Iteration_loss 1.4701\n",
            "Iteration-> 1  , Iteration_time-> 66.7454 , Iteration_loss 1.5307\n",
            "Epoch 72 , average loss 1.5003974437713623 , epoch_time 134.19927954673767\n",
            "\n",
            "epoch->  73\n",
            "Iteration-> 0  , Iteration_time-> 67.1865 , Iteration_loss 1.4562\n",
            "Iteration-> 1  , Iteration_time-> 68.0528 , Iteration_loss 1.5357\n",
            "Epoch 73 , average loss 1.4959564208984375 , epoch_time 135.23952436447144\n",
            "\n",
            "epoch->  74\n",
            "Iteration-> 0  , Iteration_time-> 67.1982 , Iteration_loss 1.4607\n",
            "Iteration-> 1  , Iteration_time-> 66.1088 , Iteration_loss 1.5184\n",
            "Epoch 74 , average loss 1.4895467162132263 , epoch_time 133.30712938308716\n",
            "\n",
            "epoch->  75\n",
            "Iteration-> 0  , Iteration_time-> 66.4941 , Iteration_loss 1.4366\n",
            "Iteration-> 1  , Iteration_time-> 66.2430 , Iteration_loss 1.5017\n",
            "Epoch 75 , average loss 1.4691656827926636 , epoch_time 132.73727798461914\n",
            "\n",
            "epoch->  76\n",
            "Iteration-> 0  , Iteration_time-> 66.6749 , Iteration_loss 1.4314\n",
            "Iteration-> 1  , Iteration_time-> 66.1332 , Iteration_loss 1.5107\n",
            "Epoch 76 , average loss 1.4710649847984314 , epoch_time 132.8084568977356\n",
            "\n",
            "epoch->  77\n",
            "Iteration-> 0  , Iteration_time-> 67.2426 , Iteration_loss 1.4283\n",
            "Iteration-> 1  , Iteration_time-> 65.9038 , Iteration_loss 1.4883\n",
            "Epoch 77 , average loss 1.458286464214325 , epoch_time 133.14660263061523\n",
            "\n",
            "epoch->  78\n",
            "Iteration-> 0  , Iteration_time-> 67.2721 , Iteration_loss 1.4067\n",
            "Iteration-> 1  , Iteration_time-> 65.6538 , Iteration_loss 1.4810\n",
            "Epoch 78 , average loss 1.4438987970352173 , epoch_time 132.92604970932007\n",
            "\n",
            "epoch->  79\n",
            "Iteration-> 0  , Iteration_time-> 66.8002 , Iteration_loss 1.3952\n",
            "Iteration-> 1  , Iteration_time-> 65.6998 , Iteration_loss 1.4626\n",
            "Epoch 79 , average loss 1.4288767576217651 , epoch_time 132.50015807151794\n",
            "\n",
            "epoch->  80\n",
            "Iteration-> 0  , Iteration_time-> 67.6463 , Iteration_loss 1.3931\n",
            "Iteration-> 1  , Iteration_time-> 66.3687 , Iteration_loss 1.4559\n",
            "Epoch 80 , average loss 1.4244964122772217 , epoch_time 134.01514959335327\n",
            "\n",
            "epoch->  81\n",
            "Iteration-> 0  , Iteration_time-> 67.0423 , Iteration_loss 1.3686\n",
            "Iteration-> 1  , Iteration_time-> 65.8546 , Iteration_loss 1.4438\n",
            "Epoch 81 , average loss 1.4062174558639526 , epoch_time 132.89712142944336\n",
            "\n",
            "epoch->  82\n",
            "Iteration-> 0  , Iteration_time-> 66.4355 , Iteration_loss 1.3594\n",
            "Iteration-> 1  , Iteration_time-> 65.8021 , Iteration_loss 1.4241\n",
            "Epoch 82 , average loss 1.3917431831359863 , epoch_time 132.23781633377075\n",
            "\n",
            "epoch->  83\n",
            "Iteration-> 0  , Iteration_time-> 66.6113 , Iteration_loss 1.3493\n",
            "Iteration-> 1  , Iteration_time-> 66.6012 , Iteration_loss 1.4130\n",
            "Epoch 83 , average loss 1.381125271320343 , epoch_time 133.2126965522766\n",
            "\n",
            "epoch->  84\n",
            "Iteration-> 0  , Iteration_time-> 67.0848 , Iteration_loss 1.3322\n",
            "Iteration-> 1  , Iteration_time-> 65.8981 , Iteration_loss 1.3948\n",
            "Epoch 84 , average loss 1.36351078748703 , epoch_time 132.98314213752747\n",
            "\n",
            "epoch->  85\n",
            "Iteration-> 0  , Iteration_time-> 71.1193 , Iteration_loss 1.3235\n",
            "Iteration-> 1  , Iteration_time-> 66.2005 , Iteration_loss 1.3834\n",
            "Epoch 85 , average loss 1.3534424901008606 , epoch_time 137.32006859779358\n",
            "\n",
            "epoch->  86\n",
            "Iteration-> 0  , Iteration_time-> 67.7147 , Iteration_loss 1.3143\n",
            "Iteration-> 1  , Iteration_time-> 66.3319 , Iteration_loss 1.3773\n",
            "Epoch 86 , average loss 1.3457903265953064 , epoch_time 134.04679989814758\n",
            "\n",
            "epoch->  87\n",
            "Iteration-> 0  , Iteration_time-> 66.9872 , Iteration_loss 1.2996\n",
            "Iteration-> 1  , Iteration_time-> 66.5583 , Iteration_loss 1.3584\n",
            "Epoch 87 , average loss 1.3290205001831055 , epoch_time 133.54568529129028\n",
            "\n",
            "epoch->  88\n",
            "Iteration-> 0  , Iteration_time-> 67.3095 , Iteration_loss 1.2861\n",
            "Iteration-> 1  , Iteration_time-> 66.2636 , Iteration_loss 1.3459\n",
            "Epoch 88 , average loss 1.3159840106964111 , epoch_time 133.57331728935242\n",
            "\n",
            "epoch->  89\n",
            "Iteration-> 0  , Iteration_time-> 67.0843 , Iteration_loss 1.2698\n",
            "Iteration-> 1  , Iteration_time-> 66.1056 , Iteration_loss 1.3437\n",
            "Epoch 89 , average loss 1.3067885637283325 , epoch_time 133.19014501571655\n",
            "\n",
            "epoch->  90\n",
            "Iteration-> 0  , Iteration_time-> 66.5051 , Iteration_loss 1.2626\n",
            "Iteration-> 1  , Iteration_time-> 66.1791 , Iteration_loss 1.3266\n",
            "Epoch 90 , average loss 1.2946016788482666 , epoch_time 132.68443822860718\n",
            "\n",
            "epoch->  91\n",
            "Iteration-> 0  , Iteration_time-> 67.2635 , Iteration_loss 1.2540\n",
            "Iteration-> 1  , Iteration_time-> 66.2928 , Iteration_loss 1.3280\n",
            "Epoch 91 , average loss 1.2910269498825073 , epoch_time 133.55660319328308\n",
            "\n",
            "epoch->  92\n",
            "Iteration-> 0  , Iteration_time-> 67.4995 , Iteration_loss 1.2495\n",
            "Iteration-> 1  , Iteration_time-> 66.2360 , Iteration_loss 1.2973\n",
            "Epoch 92 , average loss 1.2734349370002747 , epoch_time 133.73572611808777\n",
            "\n",
            "epoch->  93\n",
            "Iteration-> 0  , Iteration_time-> 66.5765 , Iteration_loss 1.2327\n",
            "Iteration-> 1  , Iteration_time-> 65.6761 , Iteration_loss 1.3028\n",
            "Epoch 93 , average loss 1.2677695751190186 , epoch_time 132.25293564796448\n",
            "\n",
            "epoch->  94\n",
            "Iteration-> 0  , Iteration_time-> 67.0918 , Iteration_loss 1.2215\n",
            "Iteration-> 1  , Iteration_time-> 66.4816 , Iteration_loss 1.2785\n",
            "Epoch 94 , average loss 1.2500364184379578 , epoch_time 133.57361006736755\n",
            "\n",
            "epoch->  95\n",
            "Iteration-> 0  , Iteration_time-> 68.9258 , Iteration_loss 1.2155\n",
            "Iteration-> 1  , Iteration_time-> 66.6121 , Iteration_loss 1.2719\n",
            "Epoch 95 , average loss 1.243700623512268 , epoch_time 135.5381007194519\n",
            "\n",
            "epoch->  96\n",
            "Iteration-> 0  , Iteration_time-> 66.9194 , Iteration_loss 1.2030\n",
            "Iteration-> 1  , Iteration_time-> 65.8397 , Iteration_loss 1.2642\n",
            "Epoch 96 , average loss 1.2335582971572876 , epoch_time 132.75929021835327\n",
            "\n",
            "epoch->  97\n",
            "Iteration-> 0  , Iteration_time-> 67.0397 , Iteration_loss 1.1940\n",
            "Iteration-> 1  , Iteration_time-> 66.6917 , Iteration_loss 1.2620\n",
            "Epoch 97 , average loss 1.2280287146568298 , epoch_time 133.73155784606934\n",
            "\n",
            "epoch->  98\n",
            "Iteration-> 0  , Iteration_time-> 67.2735 , Iteration_loss 1.1815\n",
            "Iteration-> 1  , Iteration_time-> 66.1438 , Iteration_loss 1.2363\n",
            "Epoch 98 , average loss 1.2089162468910217 , epoch_time 133.41746520996094\n",
            "\n",
            "epoch->  99\n",
            "Iteration-> 0  , Iteration_time-> 67.1708 , Iteration_loss 1.1679\n",
            "Iteration-> 1  , Iteration_time-> 66.7901 , Iteration_loss 1.2333\n",
            "Epoch 99 , average loss 1.2005704641342163 , epoch_time 133.9611599445343\n",
            "\n",
            "epoch->  100\n",
            "Iteration-> 0  , Iteration_time-> 67.2114 , Iteration_loss 1.1662\n",
            "Iteration-> 1  , Iteration_time-> 67.1895 , Iteration_loss 1.2151\n",
            "Epoch 100 , average loss 1.1906306743621826 , epoch_time 134.40123081207275\n",
            "\n",
            "epoch->  101\n",
            "Iteration-> 0  , Iteration_time-> 67.4679 , Iteration_loss 1.1504\n",
            "Iteration-> 1  , Iteration_time-> 66.3576 , Iteration_loss 1.2142\n",
            "Epoch 101 , average loss 1.1823194026947021 , epoch_time 133.82576441764832\n",
            "\n",
            "epoch->  102\n",
            "Iteration-> 0  , Iteration_time-> 67.3392 , Iteration_loss 1.1420\n",
            "Iteration-> 1  , Iteration_time-> 66.6383 , Iteration_loss 1.1917\n",
            "Epoch 102 , average loss 1.1668429970741272 , epoch_time 133.9776840209961\n",
            "\n",
            "epoch->  103\n",
            "Iteration-> 0  , Iteration_time-> 67.2017 , Iteration_loss 1.1305\n",
            "Iteration-> 1  , Iteration_time-> 66.4244 , Iteration_loss 1.1862\n",
            "Epoch 103 , average loss 1.1583625078201294 , epoch_time 133.62631106376648\n",
            "\n",
            "epoch->  104\n",
            "Iteration-> 0  , Iteration_time-> 66.8593 , Iteration_loss 1.1285\n",
            "Iteration-> 1  , Iteration_time-> 65.9146 , Iteration_loss 1.1696\n",
            "Epoch 104 , average loss 1.1490824818611145 , epoch_time 132.77409386634827\n",
            "\n",
            "epoch->  105\n",
            "Iteration-> 0  , Iteration_time-> 66.3355 , Iteration_loss 1.1090\n",
            "Iteration-> 1  , Iteration_time-> 65.7887 , Iteration_loss 1.1670\n",
            "Epoch 105 , average loss 1.137989103794098 , epoch_time 132.12439155578613\n",
            "\n",
            "epoch->  106\n",
            "Iteration-> 0  , Iteration_time-> 66.3018 , Iteration_loss 1.1075\n",
            "Iteration-> 1  , Iteration_time-> 66.0879 , Iteration_loss 1.1648\n",
            "Epoch 106 , average loss 1.1361410021781921 , epoch_time 132.390061378479\n",
            "\n",
            "epoch->  107\n",
            "Iteration-> 0  , Iteration_time-> 66.5700 , Iteration_loss 1.0983\n",
            "Iteration-> 1  , Iteration_time-> 65.7384 , Iteration_loss 1.1434\n",
            "Epoch 107 , average loss 1.1208375096321106 , epoch_time 132.3086760044098\n",
            "\n",
            "epoch->  108\n",
            "Iteration-> 0  , Iteration_time-> 66.6836 , Iteration_loss 1.0894\n",
            "Iteration-> 1  , Iteration_time-> 65.8931 , Iteration_loss 1.1305\n",
            "Epoch 108 , average loss 1.1099804639816284 , epoch_time 132.57684969902039\n",
            "\n",
            "epoch->  109\n",
            "Iteration-> 0  , Iteration_time-> 66.5063 , Iteration_loss 1.0723\n",
            "Iteration-> 1  , Iteration_time-> 65.8392 , Iteration_loss 1.1340\n",
            "Epoch 109 , average loss 1.103157877922058 , epoch_time 132.34572768211365\n",
            "\n",
            "epoch->  110\n",
            "Iteration-> 0  , Iteration_time-> 66.8758 , Iteration_loss 1.0732\n",
            "Iteration-> 1  , Iteration_time-> 65.9647 , Iteration_loss 1.1289\n",
            "Epoch 110 , average loss 1.1010353565216064 , epoch_time 132.84061193466187\n",
            "\n",
            "epoch->  111\n",
            "Iteration-> 0  , Iteration_time-> 69.6584 , Iteration_loss 1.0640\n",
            "Iteration-> 1  , Iteration_time-> 66.6092 , Iteration_loss 1.1163\n",
            "Epoch 111 , average loss 1.0901581645011902 , epoch_time 136.26784324645996\n",
            "\n",
            "epoch->  112\n",
            "Iteration-> 0  , Iteration_time-> 67.1838 , Iteration_loss 1.0569\n",
            "Iteration-> 1  , Iteration_time-> 65.3722 , Iteration_loss 1.0975\n",
            "Epoch 112 , average loss 1.0772073864936829 , epoch_time 132.5562880039215\n",
            "\n",
            "epoch->  113\n",
            "Iteration-> 0  , Iteration_time-> 66.4140 , Iteration_loss 1.0427\n",
            "Iteration-> 1  , Iteration_time-> 68.2120 , Iteration_loss 1.1055\n",
            "Epoch 113 , average loss 1.0741056203842163 , epoch_time 134.6261146068573\n",
            "\n",
            "epoch->  114\n",
            "Iteration-> 0  , Iteration_time-> 66.4942 , Iteration_loss 1.0433\n",
            "Iteration-> 1  , Iteration_time-> 65.3970 , Iteration_loss 1.0890\n",
            "Epoch 114 , average loss 1.066129446029663 , epoch_time 131.89141273498535\n",
            "\n",
            "epoch->  115\n",
            "Iteration-> 0  , Iteration_time-> 66.2975 , Iteration_loss 1.0250\n",
            "Iteration-> 1  , Iteration_time-> 65.4250 , Iteration_loss 1.0812\n",
            "Epoch 115 , average loss 1.053091287612915 , epoch_time 131.72267150878906\n",
            "\n",
            "epoch->  116\n",
            "Iteration-> 0  , Iteration_time-> 65.9806 , Iteration_loss 1.0291\n",
            "Iteration-> 1  , Iteration_time-> 65.2444 , Iteration_loss 1.0846\n",
            "Epoch 116 , average loss 1.0568544268608093 , epoch_time 131.22521924972534\n",
            "\n",
            "epoch->  117\n",
            "Iteration-> 0  , Iteration_time-> 66.3116 , Iteration_loss 1.0134\n",
            "Iteration-> 1  , Iteration_time-> 65.9406 , Iteration_loss 1.0620\n",
            "Epoch 117 , average loss 1.0377039313316345 , epoch_time 132.25243520736694\n",
            "\n",
            "epoch->  118\n",
            "Iteration-> 0  , Iteration_time-> 66.6977 , Iteration_loss 1.0093\n",
            "Iteration-> 1  , Iteration_time-> 65.7100 , Iteration_loss 1.0664\n",
            "Epoch 118 , average loss 1.037882685661316 , epoch_time 132.40790581703186\n",
            "\n",
            "epoch->  119\n",
            "Iteration-> 0  , Iteration_time-> 65.9099 , Iteration_loss 1.0044\n",
            "Iteration-> 1  , Iteration_time-> 65.5744 , Iteration_loss 1.0525\n",
            "Epoch 119 , average loss 1.0284937620162964 , epoch_time 131.48441529273987\n",
            "\n",
            "epoch->  120\n",
            "Iteration-> 0  , Iteration_time-> 66.9679 , Iteration_loss 0.9966\n",
            "Iteration-> 1  , Iteration_time-> 66.2991 , Iteration_loss 1.0429\n",
            "Epoch 120 , average loss 1.0197634398937225 , epoch_time 133.2673044204712\n",
            "\n",
            "epoch->  121\n",
            "Iteration-> 0  , Iteration_time-> 66.6478 , Iteration_loss 0.9905\n",
            "Iteration-> 1  , Iteration_time-> 65.7611 , Iteration_loss 1.0398\n",
            "Epoch 121 , average loss 1.0151109397411346 , epoch_time 132.40913581848145\n",
            "\n",
            "epoch->  122\n",
            "Iteration-> 0  , Iteration_time-> 66.5850 , Iteration_loss 0.9789\n"
          ],
          "name": "stdout"
        }
      ]
    },
    {
      "cell_type": "markdown",
      "metadata": {
        "id": "sgPjci1G2CLX",
        "colab_type": "text"
      },
      "source": [
        "# III Training conv decoder"
      ]
    },
    {
      "cell_type": "code",
      "metadata": {
        "id": "TzyRgyfhfoQ-",
        "colab_type": "code",
        "colab": {
          "base_uri": "https://localhost:8080/",
          "height": 326
        },
        "outputId": "70e6cbe5-d22f-4948-93d0-a7ca2f28f073"
      },
      "source": [
        "!python 3_training_decoder.py"
      ],
      "execution_count": null,
      "outputs": [
        {
          "output_type": "stream",
          "text": [
            "Loading corpus\n",
            "Defining model\n",
            "Loading GAT encoder\n",
            "Only Conv model trained\n",
            "Number of epochs 1\n",
            "\n",
            "epoch->  0\n",
            "tcmalloc: large alloc 2115993600 bytes == 0x73a8000 @  0x7fe900925b6b 0x7fe900945379 0x7fe8b50b292e 0x7fe8b50b4946 0x7fe8ed1cf4b1 0x7fe8ed1bf519 0x7fe8ed1c9f2f 0x7fe8ed1ce06e 0x7fe8ed1c7126 0x7fe8ed1c7baf 0x7fe8ed3c9016 0x7fe8ecbccc53 0x7fe8ed32c01a 0x7fe8eef3518f 0x7fe8ecbccc53 0x7fe8ed32c01a 0x7fe8ecd39607 0x7fe8ed3c283c 0x7fe8eef5eca1 0x7fe8ecbccbb8 0x7fe8ed32cc00 0x7fe8ecd310a7 0x7fe8ed3c254d 0x7fe8eef5eeeb 0x7fe8ecbccd0f 0x7fe8ed32d1f1 0x7fe8ecd30ec6 0x7fe8ed3c2c06 0x7fe8eefe49a1 0x7fe8ecbccc53 0x7fe8ed32bada\n",
            "tcmalloc: large alloc 2099200000 bytes == 0x855a0000 @  0x7fe900925b6b 0x7fe900945379 0x7fe8b50b292e 0x7fe8b50b4946 0x7fe8ecfa59e5 0x7fe8ed22aaf3 0x7fe8ed21bf97 0x7fe8ed21bc7d 0x7fe8ed21bf97 0x7fe8ed326a1a 0x7fe8ed1da694 0x7fe8ed1c7c7b 0x7fe8ed3c9016 0x7fe8ecbccc53 0x7fe8ed32c01a 0x7fe8eef3518f 0x7fe8ecbccc53 0x7fe8ed32c01a 0x7fe8ecd39607 0x7fe8ed3c283c 0x7fe8eef5eca1 0x7fe8ecbccbb8 0x7fe8ed32cc00 0x7fe8ecd310a7 0x7fe8ed3c254d 0x7fe8eef5eeeb 0x7fe8ecbccd0f 0x7fe8ed32d1f1 0x7fe8ecd30ec6 0x7fe8ed3c2c06 0x7fe8eefe49a1\n",
            "tcmalloc: large alloc 2099200000 bytes == 0x73a8000 @  0x7fe900925b6b 0x7fe900945379 0x7fe8b50b292e 0x7fe8b50b4946 0x7fe8ecfa59e5 0x7fe8ed22aaf3 0x7fe8ed21bf97 0x7fe8ed21bc7d 0x7fe8ed21bf97 0x7fe8ed326a1a 0x7fe8ecfb3f8a 0x7fe8ecfb7ff6 0x7fe8ecfb865d 0x7fe8ecfb880a 0x7fe8ecca2ee0 0x7fe8ecca3700 0x7fe8ed22b199 0x7fe8ecbccfd9 0x7fe8ed2fc3c5 0x7fe8ecc9b52e 0x7fe8ed22b089 0x7fe8ecbccf1d 0x7fe8ed36fcad 0x7fe8ed2bda9f 0x7fe8eef37a6f 0x7fe8ecbccf1d 0x7fe8ed36fcad 0x7fe8ed45a43f 0x7fe8fc9c49af 0x50a7f5 0x50c1f4\n",
            "tcmalloc: large alloc 2099200000 bytes == 0x102794000 @  0x7fe900925b6b 0x7fe900945379 0x7fe8b50b292e 0x7fe8b50b4946 0x7fe8ed490bb3 0x7fe8ecf4517a 0x7fe8ecf46293 0x7fe8ed446edf 0x7fe8ece05280 0x7fe8ece058e0 0x7fe8ed22af59 0x7fe8ecb88530 0x7fe8ed37081c 0x7fe8ed2c16ab 0x7fe8ef002a2f 0x7fe8ecb88530 0x7fe8ed37081c 0x7fe8ed456cab 0x7fe8eee43c34 0x7fe8eee49bf5 0x7fe8ef4a7bb7 0x7fe8ef4a3400 0x7fe8ef4a3fa1 0x7fe8ef4a16bc 0x7fe8fcc3c76c 0x7fe8ef4a09f3 0x7fe8fcc3c56e 0x7fe8fcc3d254 0x50a7f5 0x50cfd6 0x507f24\n",
            "tcmalloc: large alloc 2099200000 bytes == 0x67a2000 @  0x7fe900925b6b 0x7fe900945379 0x7fe8b50b292e 0x7fe8b50b4946 0x7fe8ecfa59e5 0x7fe8ed22aaf3 0x7fe8ed21bf97 0x7fe8ed21bc7d 0x7fe8ed21bf97 0x7fe8ed326a1a 0x7fe8ecfb3f8a 0x7fe8ecfb7ff6 0x7fe8ecfb865d 0x7fe8ecfb880a 0x7fe8ecca2ee0 0x7fe8ecca397c 0x7fe8ed22b1e9 0x7fe8ecbcd254 0x7fe8ed2fe2a3 0x7fe8ef04692f 0x7fe8ecbcd254 0x7fe8ed2fe2a3 0x7fe8eee723a1 0x7fe8ef4a7bb7 0x7fe8ef4a3400 0x7fe8ef4a3fa1 0x7fe8ef4a16bc 0x7fe8fcc3c76c 0x7fe8ef4a09f3 0x7fe8fcc3c56e 0x7fe8fcc3d254\n",
            "tcmalloc: large alloc 2115993600 bytes == 0x83996000 @  0x7fe900925b6b 0x7fe900945379 0x7fe8b50b292e 0x7fe8b50b4946 0x7fe8ed1cf4b1 0x7fe8ed1bf519 0x7fe8ed1c0570 0x7fe8ed1ca00a 0x7fe8ed1cecac 0x7fe8ed1c7f29 0x7fe8ed3c90fe 0x7fe8ed3f6db6 0x7fe8ed32351f 0x7fe8ed1c65bb 0x7fe8ed3c92ba 0x7fe8ed3f6e5c 0x7fe8ed33505b 0x7fe8eef831d2 0x7fe8ed3f6e5c 0x7fe8ed33505b 0x7fe8eee89b33 0x7fe8ef4a7bb7 0x7fe8ef4a3400 0x7fe8ef4a3fa1 0x7fe8ef4a16bc 0x7fe8fcc3c76c 0x7fe8ef4a09f3 0x7fe8fcc3c56e 0x7fe8fcc3d254 0x50a7f5 0x50cfd6\n",
            "Iteration-> 0  , Iteration_time-> 7.9770 , Iteration_loss 0.4586\n",
            "Epoch 0 , average loss 0.4585547149181366 , epoch_time 7.977162837982178\n",
            "Done saving model conv\n",
            "3. Train Decoder Successfully !\n"
          ],
          "name": "stdout"
        }
      ]
    },
    {
      "cell_type": "markdown",
      "metadata": {
        "id": "y9buk2paFF4Z",
        "colab_type": "text"
      },
      "source": [
        "# V. Evaluation"
      ]
    },
    {
      "cell_type": "markdown",
      "metadata": {
        "id": "eanI-1R2FgKV",
        "colab_type": "text"
      },
      "source": [
        "### 1. Evaluating"
      ]
    },
    {
      "cell_type": "code",
      "metadata": {
        "id": "xCb__-PaPm3M",
        "colab_type": "code",
        "colab": {
          "base_uri": "https://localhost:8080/",
          "height": 119
        },
        "outputId": "e7413ea2-f8bb-4ecb-ccbb-325c2cad8daf"
      },
      "source": [
        "!python 4_evalution.py"
      ],
      "execution_count": null,
      "outputs": [
        {
          "output_type": "stream",
          "text": [
            "Loading corpus\n",
            "Loading model\n",
            "Sampled indices Hello\n",
            "test set length  49\n",
            "0\n",
            "4. Evaluation Successfully !\n"
          ],
          "name": "stdout"
        }
      ]
    },
    {
      "cell_type": "markdown",
      "metadata": {
        "id": "Phmuu8TPFLdF",
        "colab_type": "text"
      },
      "source": [
        "### 2. Load result"
      ]
    },
    {
      "cell_type": "code",
      "metadata": {
        "id": "tXf0lmoBuUQH",
        "colab_type": "code",
        "colab": {}
      },
      "source": [
        ""
      ],
      "execution_count": null,
      "outputs": []
    },
    {
      "cell_type": "code",
      "metadata": {
        "id": "Al1EUpI58kKi",
        "colab_type": "code",
        "colab": {}
      },
      "source": [
        ""
      ],
      "execution_count": null,
      "outputs": []
    },
    {
      "cell_type": "code",
      "metadata": {
        "id": "VMougoLxI3gG",
        "colab_type": "code",
        "colab": {}
      },
      "source": [
        ""
      ],
      "execution_count": null,
      "outputs": []
    },
    {
      "cell_type": "code",
      "metadata": {
        "id": "VnyAfcllQUp6",
        "colab_type": "code",
        "colab": {}
      },
      "source": [
        ""
      ],
      "execution_count": null,
      "outputs": []
    },
    {
      "cell_type": "code",
      "metadata": {
        "id": "h3a7ez0tSHYb",
        "colab_type": "code",
        "colab": {}
      },
      "source": [
        "  "
      ],
      "execution_count": null,
      "outputs": []
    },
    {
      "cell_type": "code",
      "metadata": {
        "id": "DDsaRRGjG_1k",
        "colab_type": "code",
        "colab": {}
      },
      "source": [
        ""
      ],
      "execution_count": null,
      "outputs": []
    }
  ]
}