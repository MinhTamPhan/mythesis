{
  "nbformat": 4,
  "nbformat_minor": 0,
  "metadata": {
    "colab": {
      "name": "GCAT_WN18RR.ipynb",
      "provenance": [],
      "collapsed_sections": [],
      "toc_visible": true,
      "machine_shape": "hm"
    },
    "kernelspec": {
      "name": "python3",
      "display_name": "Python 3"
    },
    "accelerator": "GPU"
  },
  "cells": [
    {
      "cell_type": "markdown",
      "metadata": {
        "id": "Y4mgm4qrDukx",
        "colab_type": "text"
      },
      "source": [
        "# GCAT WN18RR\n",
        "\n",
        "### Content\n",
        "\n",
        "* I. Initial\n",
        "\n",
        "* II. Load Corpus\n",
        "\n",
        "* III. Train GAT\n",
        "\n",
        "* IV. Train Conv\n",
        "\n",
        "* V. Evaluation"
      ]
    },
    {
      "cell_type": "code",
      "metadata": {
        "id": "B8a4zQCs0ZJl",
        "colab_type": "code",
        "colab": {}
      },
      "source": [
        "from google.colab import drive\n",
        "drive.flush_and_unmount()"
      ],
      "execution_count": null,
      "outputs": []
    },
    {
      "cell_type": "code",
      "metadata": {
        "id": "LsU9euZd0dlV",
        "colab_type": "code",
        "colab": {}
      },
      "source": [
        "rm -rf /content/*"
      ],
      "execution_count": null,
      "outputs": []
    },
    {
      "cell_type": "markdown",
      "metadata": {
        "id": "DPc4WgWZxJvA",
        "colab_type": "text"
      },
      "source": [
        "# I. Initial"
      ]
    },
    {
      "cell_type": "code",
      "metadata": {
        "id": "pYa4yoggvjF6",
        "colab_type": "code",
        "colab": {
          "base_uri": "https://localhost:8080/",
          "height": 51
        },
        "outputId": "5a982eff-8a86-49f0-a1df-646369411692"
      },
      "source": [
        "%%bash\n",
        "rm -rf GCAT\n",
        "git clone https://github.com/hmthanh/GCAT.git"
      ],
      "execution_count": null,
      "outputs": [
        {
          "output_type": "stream",
          "text": [
            "Cloning into 'GCAT'...\n",
            "Checking out files:  45% (54/118)   \rChecking out files:  46% (55/118)   \rChecking out files:  47% (56/118)   \rChecking out files:  48% (57/118)   \rChecking out files:  49% (58/118)   \rChecking out files:  50% (59/118)   \rChecking out files:  51% (61/118)   \rChecking out files:  52% (62/118)   \rChecking out files:  53% (63/118)   \rChecking out files:  54% (64/118)   \rChecking out files:  55% (65/118)   \rChecking out files:  56% (67/118)   \rChecking out files:  57% (68/118)   \rChecking out files:  58% (69/118)   \rChecking out files:  59% (70/118)   \rChecking out files:  60% (71/118)   \rChecking out files:  61% (72/118)   \rChecking out files:  62% (74/118)   \rChecking out files:  63% (75/118)   \rChecking out files:  64% (76/118)   \rChecking out files:  65% (77/118)   \rChecking out files:  66% (78/118)   \rChecking out files:  67% (80/118)   \rChecking out files:  68% (81/118)   \rChecking out files:  69% (82/118)   \rChecking out files:  70% (83/118)   \rChecking out files:  71% (84/118)   \rChecking out files:  72% (85/118)   \rChecking out files:  73% (87/118)   \rChecking out files:  74% (88/118)   \rChecking out files:  75% (89/118)   \rChecking out files:  76% (90/118)   \rChecking out files:  77% (91/118)   \rChecking out files:  78% (93/118)   \rChecking out files:  79% (94/118)   \rChecking out files:  80% (95/118)   \rChecking out files:  81% (96/118)   \rChecking out files:  82% (97/118)   \rChecking out files:  83% (98/118)   \rChecking out files:  84% (100/118)   \rChecking out files:  85% (101/118)   \rChecking out files:  86% (102/118)   \rChecking out files:  87% (103/118)   \rChecking out files:  88% (104/118)   \rChecking out files:  89% (106/118)   \rChecking out files:  90% (107/118)   \rChecking out files:  91% (108/118)   \rChecking out files:  92% (109/118)   \rChecking out files:  93% (110/118)   \rChecking out files:  94% (111/118)   \rChecking out files:  95% (113/118)   \rChecking out files:  96% (114/118)   \rChecking out files:  97% (115/118)   \rChecking out files:  98% (116/118)   \rChecking out files:  99% (117/118)   \rChecking out files: 100% (118/118)   \rChecking out files: 100% (118/118), done.\n"
          ],
          "name": "stderr"
        }
      ]
    },
    {
      "cell_type": "code",
      "metadata": {
        "id": "Kb7JNiVgPKsm",
        "colab_type": "code",
        "colab": {
          "base_uri": "https://localhost:8080/"
        },
        "outputId": "04d01e0e-697a-4303-9015-34ee1ae564f0"
      },
      "source": [
        "!yes | cp --i /content/GCAT/* /content/"
      ],
      "execution_count": null,
      "outputs": [
        {
          "output_type": "stream",
          "text": [
            "cp: -r not specified; omitting directory '/content/GCAT/data'\n",
            "cp: -r not specified; omitting directory '/content/GCAT/output'\n"
          ],
          "name": "stdout"
        }
      ]
    },
    {
      "cell_type": "code",
      "metadata": {
        "id": "3PjeGKtXvlh_",
        "colab_type": "code",
        "colab": {
          "base_uri": "https://localhost:8080/",
          "height": 34
        },
        "outputId": "e98a3938-cf22-4e13-e1cb-79cdda802cd0"
      },
      "source": [
        "%%bash\n",
        "rm -rf /content/data/\n",
        "rm -rf /content/output/\n",
        "rm -r /content/sample_data/\n",
        "\n",
        "mv /content/GCAT/* /content/\n",
        "rm -r /content/GCAT/"
      ],
      "execution_count": null,
      "outputs": [
        {
          "output_type": "stream",
          "text": [
            "rm: cannot remove '/content/sample_data/': No such file or directory\n"
          ],
          "name": "stderr"
        }
      ]
    },
    {
      "cell_type": "markdown",
      "metadata": {
        "id": "BbPQ5L-K2zpB",
        "colab_type": "text"
      },
      "source": [
        "Load Google Drive if you want to save model on Google Drive"
      ]
    },
    {
      "cell_type": "code",
      "metadata": {
        "id": "yf3VUMI2_vz2",
        "colab_type": "code",
        "colab": {
          "base_uri": "https://localhost:8080/",
          "height": 122
        },
        "outputId": "bf6a30f6-914f-4575-f3a9-47c0fbd76eea"
      },
      "source": [
        "from google.colab import drive\n",
        "drive.mount('/content/drive')"
      ],
      "execution_count": null,
      "outputs": [
        {
          "output_type": "stream",
          "text": [
            "Go to this URL in a browser: https://accounts.google.com/o/oauth2/auth?client_id=947318989803-6bn6qk8qdgf4n4g3pfee6491hc0brc4i.apps.googleusercontent.com&redirect_uri=urn%3aietf%3awg%3aoauth%3a2.0%3aoob&scope=email%20https%3a%2f%2fwww.googleapis.com%2fauth%2fdocs.test%20https%3a%2f%2fwww.googleapis.com%2fauth%2fdrive%20https%3a%2f%2fwww.googleapis.com%2fauth%2fdrive.photos.readonly%20https%3a%2f%2fwww.googleapis.com%2fauth%2fpeopleapi.readonly&response_type=code\n",
            "\n",
            "Enter your authorization code:\n",
            "4/4AFFHsBPBnEWl4Lfsfk11ppridEJgSHgRlGLSsEmIHArNWU_mywUBBY\n",
            "Mounted at /content/drive\n"
          ],
          "name": "stdout"
        }
      ]
    },
    {
      "cell_type": "markdown",
      "metadata": {
        "id": "-9F-asBHkulW",
        "colab_type": "text"
      },
      "source": [
        "## 1. Config"
      ]
    },
    {
      "cell_type": "markdown",
      "metadata": {
        "id": "lTBwfxXmk0FE",
        "colab_type": "text"
      },
      "source": [
        "## 2. WN18RR"
      ]
    },
    {
      "cell_type": "code",
      "metadata": {
        "id": "_vXBc7sYkzee",
        "colab_type": "code",
        "cellView": "both",
        "colab": {
          "base_uri": "https://localhost:8080/",
          "height": 493
        },
        "outputId": "ec1714d4-5603-4bc6-9acc-3cf57807d404"
      },
      "source": [
        "#@title Cấu hình cài đặt WN18RR { run: \"auto\" }\n",
        "\n",
        "#@markdown Siêu tham số\n",
        "\n",
        "dataset = \"WN18RR\" #@param [\"WN18RR\", \"WN18\", \"FB15k\", \"FB15k-237\"] {allow-input: false}\n",
        "cuda = True #@param {type: \"boolean\"}\n",
        "data_folder = \"./data\"\n",
        "output_folder=\"./output\" #@param {type: \"string\"}\n",
        "drive_folder=\"/content/drive/My Drive\" #@param {type: \"string\"}\n",
        "save_gdrive = True #@param {type: \"boolean\"}\n",
        "epochs_gat = 3600 #@param {type: \"number\"}\n",
        "epochs_conv = 200 #@param {type: \"number\"}\n",
        "weight_decay_gat = float(5e-6) #@param {type:\"raw\"}\n",
        "weight_decay_conv = float(1e-5) #@param {type:\"raw\"}\n",
        "pretrained_emb = True #@param {type: \"boolean\"}\n",
        "embedding_size = 50 #@param {type: \"slider\", min: 20, max: 200}\n",
        "lr = float(1e-3) #@param {type:\"raw\"}\n",
        "get_2hop = True #@param {type: \"boolean\"}\n",
        "use_2hop = True #@param {type: \"boolean\"}\n",
        "partial_2hop = False #@param {type: \"boolean\"}\n",
        "\n",
        "#@markdown --- Tham số cho mô hình GAT\n",
        "batch_size_gat = 86835 #@param {type: \"number\"}\n",
        "valid_invalid_ratio_gat = 2 #@param {type: \"slider\", min: 1, max: 10}\n",
        "drop_GAT = 0.3  #@param {type:\"raw\"}\n",
        "alpha = 0.2  #@param {type:\"raw\"}\n",
        "entity_out_dim = [100, 200]  #@param {type:\"raw\"}\n",
        "nheads_GAT = [2, 2]  #@param {type:\"raw\"}\n",
        "margin = 5 #@param {type: \"slider\", min: 1, max: 10}\n",
        "\n",
        "#@markdown --- Tham số cho mô hình ConvKB\n",
        "batch_size_conv = 128  #@param {type: \"slider\", min: 16, max: 512, step:16}\n",
        "alpha_conv = 0.2  #@param {type:\"raw\"}\n",
        "valid_invalid_ratio_conv = 40\n",
        "out_channels = 500 #@param {type: \"slider\", min: 100, max: 1000, step:100}\n",
        "drop_conv = 0.0  #@param {type:\"raw\"}\n",
        "\n",
        "from create_config import Config\n",
        "\n",
        "config = Config(dataset=dataset,data_folder=data_folder,cuda=cuda,output_folder=output_folder,save_gdrive=save_gdrive,drive_folder=drive_folder,epochs_gat=epochs_gat,epochs_conv=epochs_conv,weight_decay_gat=weight_decay_gat,weight_decay_conv=weight_decay_conv,pretrained_emb=pretrained_emb,embedding_size=embedding_size,lr=lr,get_2hop=get_2hop,use_2hop=use_2hop,partial_2hop=partial_2hop,batch_size_gat=batch_size_gat,valid_invalid_ratio_gat=valid_invalid_ratio_gat,drop_GAT=drop_GAT,alpha=alpha,entity_out_dim=entity_out_dim,nheads_GAT=nheads_GAT,margin=margin,batch_size_conv=batch_size_conv,alpha_conv=alpha_conv,valid_invalid_ratio_conv=valid_invalid_ratio_conv,out_channels=out_channels,drop_conv=drop_conv)\n",
        "\n",
        "config.dumps_config()\n",
        "\n",
        "config"
      ],
      "execution_count": null,
      "outputs": [
        {
          "output_type": "execute_result",
          "data": {
            "text/plain": [
              "dataset: WN18RR\n",
              "data_folder: ./data\n",
              "output_folder: ./output\n",
              "drive_folder: /content/drive/My Drive\n",
              "save_gdrive: True\n",
              "cuda: True\n",
              "epochs_gat: 3600\n",
              "epochs_conv: 200\n",
              "weight_decay_gat: 5e-06\n",
              "weight_decay_conv: 1e-05\n",
              "pretrained_emb: True\n",
              "embedding_size: 50\n",
              "lr: 0.001\n",
              "get_2hop: True\n",
              "use_2hop: True\n",
              "partial_2hop: False\n",
              "batch_size_gat: 86835\n",
              "valid_invalid_ratio_gat: 2\n",
              "drop_GAT: 0.3\n",
              "alpha: 0.2\n",
              "entity_out_dim: [100, 200]\n",
              "nheads_GAT: [2, 2]\n",
              "margin: 5\n",
              "batch_size_conv: 128\n",
              "alpha_conv: 0.2\n",
              "valid_invalid_ratio_conv: 40\n",
              "out_channels: 500\n",
              "drop_conv: 0.0"
            ]
          },
          "metadata": {
            "tags": []
          },
          "execution_count": 7
        }
      ]
    },
    {
      "cell_type": "markdown",
      "metadata": {
        "id": "obmexkHdI16V",
        "colab_type": "text"
      },
      "source": [
        "Load config"
      ]
    },
    {
      "cell_type": "markdown",
      "metadata": {
        "id": "PuBeOI_J_Znr",
        "colab_type": "text"
      },
      "source": [
        "# II. Create corpus\n"
      ]
    },
    {
      "cell_type": "code",
      "metadata": {
        "id": "8LTr3BOmCz4U",
        "colab_type": "code",
        "colab": {
          "base_uri": "https://localhost:8080/",
          "height": 318
        },
        "outputId": "20b84e87-73bd-40b6-86b3-66fa52553078"
      },
      "source": [
        "!python 1_create_corpus.py"
      ],
      "execution_count": null,
      "outputs": [
        {
          "output_type": "stream",
          "text": [
            "number of unique_entities -> 40559\n",
            "number of unique_entities -> 5173\n",
            "number of unique_entities -> 5323\n",
            "test_triples (3134, 3)\n",
            "test_adjacency_mat (3, 3134)\n",
            "entity2id 40943\n",
            "relation2id 11\n",
            "headTailSelector 11\n",
            "unique_entities_train (40559,) \n",
            "\n",
            "Initialised relations and entities from TransE\n",
            "Graph created\n",
            "length of graph keys is  39610\n",
            "time taken  2946.9735832214355\n",
            "length of neighbors dict is  39115\n",
            "Total triples count 93003, training triples 86835, validation_triples 3034, test_triples 3134\n",
            "1. Created Corpus Successfully !\n"
          ],
          "name": "stdout"
        }
      ]
    },
    {
      "cell_type": "code",
      "metadata": {
        "id": "9ZNzQltTf_L-",
        "colab_type": "code",
        "colab": {}
      },
      "source": [
        "!cp \"/content/drive/My Drive/WN18RR_cuda_corpus.pt\" \"/content/data/WN18RR/WN18RR_cuda_corpus.pt\"\n",
        "!cp \"/content/drive/My Drive/WN18RR_cuda_entity_embeddings.pt\" \"/content/data/WN18RR/WN18RR_cuda_entity_embeddings.pt\"\n",
        "!cp \"/content/drive/My Drive/WN18RR_cuda_relation_embeddings.pt\" \"/content/data/WN18RR/WN18RR_cuda_relation_embeddings.pt\""
      ],
      "execution_count": null,
      "outputs": []
    },
    {
      "cell_type": "markdown",
      "metadata": {
        "id": "dqzKxVaoqpU8",
        "colab_type": "text"
      },
      "source": [
        "## III. Training GAT encoder"
      ]
    },
    {
      "cell_type": "code",
      "metadata": {
        "id": "JDDPBjEy91qU",
        "colab_type": "code",
        "colab": {
          "base_uri": "https://localhost:8080/",
          "height": 80
        },
        "outputId": "74b03b8b-5e70-4e69-c1ef-a01f8b4eccdd"
      },
      "source": [
        "!python 2_training_encoder.py"
      ],
      "execution_count": null,
      "outputs": [
        {
          "output_type": "stream",
          "text": [
            "Loading corpus\n",
            "Defining model\n"
          ],
          "name": "stdout"
        }
      ]
    },
    {
      "cell_type": "code",
      "metadata": {
        "id": "YfEjpdFit-NG",
        "colab_type": "code",
        "colab": {
          "base_uri": "https://localhost:8080/",
          "height": 34
        },
        "outputId": "7f7ca19b-c1d1-488e-f97f-d6d85ae49ac0"
      },
      "source": [
        ""
      ],
      "execution_count": null,
      "outputs": [
        {
          "output_type": "stream",
          "text": [
            "cuda:0\n"
          ],
          "name": "stdout"
        }
      ]
    },
    {
      "cell_type": "markdown",
      "metadata": {
        "id": "sgPjci1G2CLX",
        "colab_type": "text"
      },
      "source": [
        "# III Training conv decoder"
      ]
    },
    {
      "cell_type": "code",
      "metadata": {
        "id": "TzyRgyfhfoQ-",
        "colab_type": "code",
        "colab": {
          "base_uri": "https://localhost:8080/",
          "height": 187
        },
        "outputId": "b080cd55-372c-4076-d0e9-48f80aac8096"
      },
      "source": [
        "%%bash\n",
        "python 3_training_decoder.py"
      ],
      "execution_count": null,
      "outputs": [
        {
          "output_type": "stream",
          "text": [
            "IOPub data rate exceeded.\n",
            "The notebook server will temporarily stop sending output\n",
            "to the client in order to avoid crashing it.\n",
            "To change this limit, set the config variable\n",
            "`--NotebookApp.iopub_data_rate_limit`.\n",
            "\n",
            "Current values:\n",
            "NotebookApp.iopub_data_rate_limit=1000000.0 (bytes/sec)\n",
            "NotebookApp.rate_limit_window=3.0 (secs)\n",
            "\n"
          ],
          "name": "stderr"
        }
      ]
    },
    {
      "cell_type": "markdown",
      "metadata": {
        "id": "y9buk2paFF4Z",
        "colab_type": "text"
      },
      "source": [
        "# V. Evaluation"
      ]
    },
    {
      "cell_type": "markdown",
      "metadata": {
        "id": "eanI-1R2FgKV",
        "colab_type": "text"
      },
      "source": [
        "### 1. Evaluating"
      ]
    },
    {
      "cell_type": "code",
      "metadata": {
        "id": "xCb__-PaPm3M",
        "colab_type": "code",
        "colab": {
          "base_uri": "https://localhost:8080/",
          "height": 119
        },
        "outputId": "e6f2aad7-e082-4d70-df9c-af2aeab5cbb9"
      },
      "source": [
        "!python 4_evalution.py"
      ],
      "execution_count": null,
      "outputs": [
        {
          "output_type": "stream",
          "text": [
            "Loading corpus\n",
            "Loading model\n",
            "Sampled indices\n",
            "test set length  3134\n",
            "0\n",
            "4. Evaluation Successfully !\n"
          ],
          "name": "stdout"
        }
      ]
    },
    {
      "cell_type": "markdown",
      "metadata": {
        "id": "Phmuu8TPFLdF",
        "colab_type": "text"
      },
      "source": [
        "### 2. Load result"
      ]
    },
    {
      "cell_type": "code",
      "metadata": {
        "id": "tXf0lmoBuUQH",
        "colab_type": "code",
        "colab": {}
      },
      "source": [
        ""
      ],
      "execution_count": null,
      "outputs": []
    },
    {
      "cell_type": "code",
      "metadata": {
        "id": "Al1EUpI58kKi",
        "colab_type": "code",
        "colab": {}
      },
      "source": [
        ""
      ],
      "execution_count": null,
      "outputs": []
    },
    {
      "cell_type": "code",
      "metadata": {
        "id": "VMougoLxI3gG",
        "colab_type": "code",
        "colab": {}
      },
      "source": [
        ""
      ],
      "execution_count": null,
      "outputs": []
    },
    {
      "cell_type": "code",
      "metadata": {
        "id": "VnyAfcllQUp6",
        "colab_type": "code",
        "colab": {}
      },
      "source": [
        ""
      ],
      "execution_count": null,
      "outputs": []
    },
    {
      "cell_type": "code",
      "metadata": {
        "id": "h3a7ez0tSHYb",
        "colab_type": "code",
        "colab": {}
      },
      "source": [
        "  "
      ],
      "execution_count": null,
      "outputs": []
    },
    {
      "cell_type": "code",
      "metadata": {
        "id": "3tTF2sYKSyFH",
        "colab_type": "code",
        "colab": {
          "base_uri": "https://localhost:8080/",
          "height": 34
        },
        "outputId": "37fd4949-85ac-48e0-f1f6-abfc7a73124d"
      },
      "source": [
        "ab= {}\n",
        "ab[1] = \"Tjanh\"\n",
        "ab"
      ],
      "execution_count": null,
      "outputs": [
        {
          "output_type": "execute_result",
          "data": {
            "text/plain": [
              "{1: 'Tjanh'}"
            ]
          },
          "metadata": {
            "tags": []
          },
          "execution_count": 1
        }
      ]
    },
    {
      "cell_type": "code",
      "metadata": {
        "id": "QGbv2pmYGkzO",
        "colab_type": "code",
        "colab": {
          "base_uri": "https://localhost:8080/",
          "height": 238
        },
        "outputId": "f242bc7a-17b3-44df-8202-24c37a2d48a8"
      },
      "source": [
        "relation2id = [\"12\", \"323\", \"234\"]\n",
        "left_entity_avg = {}\n",
        "for i in range(len(relation2id)):\n",
        "    print(i, \"dsf\")\n",
        "    print(\"left_entity_avg[i]\", i, \" i \", left_entity_avg[i])\n",
        "    print(\"left_entity[i]\", left_entity[i])"
      ],
      "execution_count": null,
      "outputs": [
        {
          "output_type": "stream",
          "text": [
            "0 dsf\n"
          ],
          "name": "stdout"
        },
        {
          "output_type": "error",
          "ename": "KeyError",
          "evalue": "ignored",
          "traceback": [
            "\u001b[0;31m---------------------------------------------------------------------------\u001b[0m",
            "\u001b[0;31mKeyError\u001b[0m                                  Traceback (most recent call last)",
            "\u001b[0;32m<ipython-input-3-5bcade6e0e8b>\u001b[0m in \u001b[0;36m<module>\u001b[0;34m()\u001b[0m\n\u001b[1;32m      3\u001b[0m \u001b[0;32mfor\u001b[0m \u001b[0mi\u001b[0m \u001b[0;32min\u001b[0m \u001b[0mrange\u001b[0m\u001b[0;34m(\u001b[0m\u001b[0mlen\u001b[0m\u001b[0;34m(\u001b[0m\u001b[0mrelation2id\u001b[0m\u001b[0;34m)\u001b[0m\u001b[0;34m)\u001b[0m\u001b[0;34m:\u001b[0m\u001b[0;34m\u001b[0m\u001b[0;34m\u001b[0m\u001b[0m\n\u001b[1;32m      4\u001b[0m     \u001b[0mprint\u001b[0m\u001b[0;34m(\u001b[0m\u001b[0mi\u001b[0m\u001b[0;34m,\u001b[0m \u001b[0;34m\"dsf\"\u001b[0m\u001b[0;34m)\u001b[0m\u001b[0;34m\u001b[0m\u001b[0;34m\u001b[0m\u001b[0m\n\u001b[0;32m----> 5\u001b[0;31m     \u001b[0mprint\u001b[0m\u001b[0;34m(\u001b[0m\u001b[0;34m\"left_entity_avg[i]\"\u001b[0m\u001b[0;34m,\u001b[0m \u001b[0mi\u001b[0m\u001b[0;34m,\u001b[0m \u001b[0;34m\" i \"\u001b[0m\u001b[0;34m,\u001b[0m \u001b[0mleft_entity_avg\u001b[0m\u001b[0;34m[\u001b[0m\u001b[0mi\u001b[0m\u001b[0;34m]\u001b[0m\u001b[0;34m)\u001b[0m\u001b[0;34m\u001b[0m\u001b[0;34m\u001b[0m\u001b[0m\n\u001b[0m\u001b[1;32m      6\u001b[0m     \u001b[0mprint\u001b[0m\u001b[0;34m(\u001b[0m\u001b[0;34m\"left_entity[i]\"\u001b[0m\u001b[0;34m,\u001b[0m \u001b[0mleft_entity\u001b[0m\u001b[0;34m[\u001b[0m\u001b[0mi\u001b[0m\u001b[0;34m]\u001b[0m\u001b[0;34m)\u001b[0m\u001b[0;34m\u001b[0m\u001b[0;34m\u001b[0m\u001b[0m\n",
            "\u001b[0;31mKeyError\u001b[0m: 0"
          ]
        }
      ]
    },
    {
      "cell_type": "code",
      "metadata": {
        "id": "Tr_6UMbxG5q4",
        "colab_type": "code",
        "colab": {}
      },
      "source": [
        "left_entity_avg[0] = \"234\""
      ],
      "execution_count": null,
      "outputs": []
    },
    {
      "cell_type": "code",
      "metadata": {
        "id": "DDsaRRGjG_1k",
        "colab_type": "code",
        "colab": {}
      },
      "source": [
        ""
      ],
      "execution_count": null,
      "outputs": []
    }
  ]
}