{
 "metadata": {
  "language_info": {
   "codemirror_mode": {
    "name": "ipython",
    "version": 3
   },
   "file_extension": ".py",
   "mimetype": "text/x-python",
   "name": "python",
   "nbconvert_exporter": "python",
   "pygments_lexer": "ipython3",
   "version": "3.7.3-final"
  },
  "orig_nbformat": 2,
  "kernelspec": {
   "name": "python3",
   "display_name": "Python 3"
  }
 },
 "nbformat": 4,
 "nbformat_minor": 2,
 "cells": [
  {
   "cell_type": "markdown",
   "metadata": {},
   "source": [
    "### testing with learn test set"
   ]
  },
  {
   "cell_type": "code",
   "execution_count": 1,
   "metadata": {
    "tags": []
   },
   "outputs": [
    {
     "output_type": "stream",
     "name": "stdout",
     "text": "* indexed 100000 triples\n* set up index for 18 relations, 40504 head entities, and 40551 tail entities\n* set up index for 18 relations, 4262 head entities, and 4338 tail entities\n* set up index for 18 relations, 4349 head entities, and 4263 tail entities\nhits@1    hits@3    hits@10\n0.9378\t  0.9400    0.9408\n"
    }
   ],
   "source": [
    "from evaluation import Evaluation\n",
    "eval = Evaluation('WN18')\n",
    "eval.eval()"
   ]
  },
  {
   "cell_type": "markdown",
   "metadata": {},
   "source": [
    "### testing with learn validate set"
   ]
  },
  {
   "cell_type": "code",
   "execution_count": 2,
   "metadata": {
    "tags": []
   },
   "outputs": [
    {
     "output_type": "stream",
     "name": "stdout",
     "text": "hits@1    hits@3    hits@10\n0.9451\t  0.9512    0.9559\n"
    }
   ],
   "source": [
    "eval.eval(False)"
   ]
  },
  {
   "cell_type": "markdown",
   "metadata": {},
   "source": [
    "### testing with learn extend rule"
   ]
  },
  {
   "cell_type": "code",
   "execution_count": 4,
   "metadata": {
    "tags": []
   },
   "outputs": [
    {
     "output_type": "stream",
     "name": "stdout",
     "text": "hits@1    hits@3    hits@10\n0.9448\t  0.9499    0.9538\n"
    }
   ],
   "source": [
    "eval.eval(True, True)"
   ]
  },
  {
   "cell_type": "code",
   "execution_count": 26,
   "metadata": {
    "tags": []
   },
   "outputs": [
    {
     "output_type": "stream",
     "name": "stdout",
     "text": "step 0 parsing line 500\t3\t0.006\t/film/film/starring./film/performance/actor(X,/m/02d45s) <= /film/film/release_date_s./film/film_regional_release_date/film_release_region(X,A)\nstep 1000 parsing line 500\t279\t0.558\t/location/hud_foreclosure_area/hhuniv./measurement_unit/dated_integer/source(X,/m/0jbk9) <= /location/location/time_zones(X,A)\n"
    }
   ],
   "source": [
    "from rule_io.rule_reader import RuleReader\n",
    "rules_exd = RuleReader('learning_rules/FB15k/rule_extend_800.txt').read()"
   ]
  },
  {
   "cell_type": "code",
   "execution_count": 27,
   "metadata": {},
   "outputs": [],
   "source": [
    "count = 0\n",
    "for r in rules_exd:\n",
    "    if r.confidence > 0.3:\n",
    "        count += 1"
   ]
  },
  {
   "cell_type": "code",
   "execution_count": 28,
   "metadata": {},
   "outputs": [
    {
     "output_type": "execute_result",
     "data": {
      "text/plain": "0.5281899109792285"
     },
     "metadata": {},
     "execution_count": 28
    }
   ],
   "source": [
    "count / len(rules_exd)"
   ]
  },
  {
   "cell_type": "code",
   "execution_count": 29,
   "metadata": {},
   "outputs": [
    {
     "output_type": "execute_result",
     "data": {
      "text/plain": "1011"
     },
     "metadata": {},
     "execution_count": 29
    }
   ],
   "source": [
    "len(rules_exd)"
   ]
  },
  {
   "cell_type": "code",
   "execution_count": null,
   "metadata": {},
   "outputs": [],
   "source": []
  }
 ]
}