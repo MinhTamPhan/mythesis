{
 "metadata": {
  "language_info": {
   "codemirror_mode": {
    "name": "ipython",
    "version": 3
   },
   "file_extension": ".py",
   "mimetype": "text/x-python",
   "name": "python",
   "nbconvert_exporter": "python",
   "pygments_lexer": "ipython3",
   "version": "3.7.3-final"
  },
  "orig_nbformat": 2,
  "kernelspec": {
   "name": "python3",
   "display_name": "Python 3"
  }
 },
 "nbformat": 4,
 "nbformat_minor": 2,
 "cells": [
  {
   "cell_type": "code",
   "execution_count": 2,
   "metadata": {
    "tags": []
   },
   "outputs": [
    {
     "output_type": "stream",
     "name": "stdout",
     "text": "* indexed 100000 triples\n* set up index for 18 relations, 40504 head entities, and 40551 tail entities\n* set up index for 18 relations, 4262 head entities, and 4338 tail entities\n* set up index for 18 relations, 4349 head entities, and 4263 tail entities\nhits@1    hits@3    hits@10\n0.9378\t  0.9400    0.9408\n"
    }
   ],
   "source": [
    "from evaluation import Evaluation\n",
    "eval = Evaluation('WN18')\n",
    "eval.eval()"
   ]
  },
  {
   "cell_type": "code",
   "execution_count": 4,
   "metadata": {
    "tags": []
   },
   "outputs": [
    {
     "output_type": "stream",
     "name": "stdout",
     "text": "hits@1    hits@3    hits@10\n0.9451\t  0.9512    0.9559\n"
    }
   ],
   "source": [
    "eval.eval(False)"
   ]
  },
  {
   "cell_type": "code",
   "execution_count": 5,
   "metadata": {
    "tags": []
   },
   "outputs": [
    {
     "output_type": "stream",
     "name": "stdout",
     "text": "hits@1    hits@3    hits@10\n0.9451\t  0.9512    0.9559\n"
    }
   ],
   "source": [
    "eval.eval(False, True)"
   ]
  },
  {
   "cell_type": "code",
   "execution_count": 1,
   "metadata": {
    "tags": []
   },
   "outputs": [
    {
     "output_type": "stream",
     "name": "stdout",
     "text": "* set up index for 18 relations, 4349 head entities, and 4263 tail entities\n"
    }
   ],
   "source": [
    "from data.triple_set import TripleSet\n",
    "triple_set = TripleSet()\n",
    "triple_set.read_triples('../../datasets/WN18/test.txt')"
   ]
  },
  {
   "cell_type": "code",
   "execution_count": 2,
   "metadata": {
    "tags": []
   },
   "outputs": [
    {
     "output_type": "stream",
     "name": "stdout",
     "text": "* indexed 100000 triples\n* set up index for 18 relations, 40504 head entities, and 40551 tail entities\n=====> batch [ACYCLIC 1] 1 (sampled 40 pathes) *****\n=====> fraction of previously seen rules within useful rules in this batch: 0.7536231884057971 num of new rule = 17 num of previously rule = 52 num of all batch rules = 69\n=====> stored rules: 17\n=====> batch [CYCLIC 1] 2 (sampled 150 pathes) *****\n=====> fraction of previously seen rules within useful rules in this batch: 0.8611111111111112 num of new rule = 5 num of previously rule = 31 num of all batch rules = 36\n=====> stored rules: 22\n"
    }
   ],
   "source": [
    "from learning import Learning\n",
    "\n",
    "learner = Learning('WN18')\n",
    "learner.train_with_batch(triple_set)"
   ]
  },
  {
   "cell_type": "code",
   "execution_count": null,
   "metadata": {},
   "outputs": [],
   "source": [
    "from predict import Predict\n",
    "\n",
    "predictior = Predict('WN18')\n",
    "predictior.prediction()"
   ]
  },
  {
   "cell_type": "code",
   "execution_count": null,
   "metadata": {},
   "outputs": [],
   "source": [
    "from learning import Learning\n",
    "\n",
    "learner = Learning('WN18')\n",
    "learner.train()"
   ]
  },
  {
   "cell_type": "code",
   "execution_count": 3,
   "metadata": {
    "tags": []
   },
   "outputs": [
    {
     "output_type": "stream",
     "name": "stdout",
     "text": "step 0 parsing line 500\t2\t0.004\t_hyponym(01557774,Y) <= _derivationally_related_form(Y,A)\nstep 1000 parsing line 5\t3\t0.6\t_derivationally_related_form(X,00545501) <= _derivationally_related_form(X,10599806)\nstep 2000 parsing line 2\t2\t1.0\t_member_meronym(12485122,Y) <= _member_holonym(Y,12485122)\nstep 3000 parsing line 3\t3\t1.0\t_derivationally_related_form(09943811,Y) <= _derivationally_related_form(Y,09943811)\nstep 4000 parsing line 500\t6\t0.012\t_instance_hyponym(09254614,Y) <= _has_part(Y,A)\nstep 5000 parsing line 4\t2\t0.5\t_hypernym(X,01656813) <= _member_holonym(X,01705247)\nstep 6000 parsing line 6\t4\t0.6666666666666666\t_derivationally_related_form(X,00590626) <= _derivationally_related_form(X,00751887)\nstep 7000 parsing line 500\t2\t0.004\t_hypernym(X,00033020) <= _hypernym(A,X)\nstep 8000 parsing line 7\t2\t0.2857142857142857\t_derivationally_related_form(01353226,Y) <= _derivationally_related_form(13894434,Y)\nstep 9000 parsing line 4\t4\t1.0\t_derivationally_related_form(05658226,Y) <= _derivationally_related_form(Y,00882702)\nstep 10000 parsing line 2\t2\t1.0\t_hyponym(11579418,Y) <= _member_meronym(12811856,Y)\nstep 11000 parsing line 500\t2\t0.004\t_hyponym(00407535,Y) <= _member_of_domain_topic(A,Y)\nstep 12000 parsing line 28\t3\t0.10714285714285714\t_synset_domain_topic_of(X,06037666) <= _hyponym(13526110,X)\nstep 13000 parsing line 276\t4\t0.014492753623188406\t_hyponym(01181475,Y) <= _synset_domain_topic_of(Y,08441203)\nstep 14000 parsing line 500\t2\t0.004\t_hypernym(X,11565040) <= _member_meronym(X,A)\nstep 15000 parsing line 5\t5\t1.0\t_derivationally_related_form(X,02448185) <= _derivationally_related_form(02448185,X)\nstep 16000 parsing line 2\t2\t1.0\t_derivationally_related_form(00759551,Y) <= _derivationally_related_form(13971561,Y)\nstep 17000 parsing line 2\t2\t1.0\t_derivationally_related_form(07578093,Y) <= _derivationally_related_form(Y,07578093)\nstep 18000 parsing line 7\t7\t1.0\t_hyponym(06377442,Y) <= _hypernym(Y,06377442)\nstep 19000 parsing line 11\t2\t0.18181818181818182\t_part_of(09453887,Y) <= _member_holonym(Y,09050244)\nstep 20000 parsing line 5\t3\t0.6\t_hyponym(02034661,Y) <= _member_holonym(Y,02034394)\nstep 21000 parsing line 500\t2\t0.004\t_has_part(X,08926681) <= _has_part(X,A)\nstep 22000 parsing line 2\t2\t1.0\t_derivationally_related_form(X,04864515) <= _derivationally_related_form(04864515,X)\nstep 23000 parsing line 3\t3\t1.0\t_hypernym(X,01802494) <= _hyponym(01802494,X)\nstep 24000 parsing line 41\t2\t0.04878048780487805\t_has_part(01308438,Y) <= _instance_hyponym(00956485,Y)\nstep 25000 parsing line 500\t2\t0.004\t_derivationally_related_form(00941990,Y) <= _has_part(Y,A)\nstep 26000 parsing line 31\t2\t0.06451612903225806\t_member_holonym(02402175,Y) <= _member_holonym(Y,02400139)\nstep 27000 parsing line 500\t2\t0.004\t_hyponym(11868814,Y) <= _member_holonym(Y,A)\nstep 28000 parsing line 4\t2\t0.5\t_also_see(01934554,Y) <= _also_see(02461723,Y)\nstep 29000 parsing line 209\t5\t0.023923444976076555\t_member_holonym(X,02660769) <= _hyponym(01432517,X)\nstep 30000 parsing line 14\t2\t0.14285714285714285\t_hyponym(X,07921615) <= _hyponym(07881800,X)\nstep 31000 parsing line 6\t6\t1.0\t_derivationally_related_form(07410207,Y) <= _derivationally_related_form(Y,07410207)\nstep 32000 parsing line 4\t2\t0.5\t_derivationally_related_form(X,10716389) <= _derivationally_related_form(10716005,X)\nstep 33000 parsing line 3\t3\t1.0\t_hyponym(01195867,Y) <= _hypernym(Y,01195867)\nstep 34000 parsing line 2\t2\t1.0\t_derivationally_related_form(X,06637350) <= _derivationally_related_form(06637350,X)\nstep 35000 parsing line 2\t2\t1.0\t_hyponym(X,07274425) <= _hypernym(07274890,X)\nstep 36000 parsing line 2\t2\t1.0\t_derivationally_related_form(01378556,Y) <= _derivationally_related_form(01380122,Y)\nstep 37000 parsing line 57\t2\t0.03508771929824561\t_has_part(05311054,Y) <= _hypernym(Y,05225602)\nstep 38000 parsing line 5\t5\t1.0\t_hypernym(X,00006484) <= _hyponym(00006484,X)\nstep 39000 parsing line 5\t2\t0.4\t_derivationally_related_form(X,02764765) <= _derivationally_related_form(02159890,X)\nstep 40000 parsing line 8\t7\t0.875\t_derivationally_related_form(X,00963283) <= _derivationally_related_form(00963283,X)\nstep 41000 parsing line 18\t3\t0.16666666666666666\t_part_of(X,09071690) <= _instance_hypernym(X,08638442)\nstep 42000 parsing line 3\t3\t1.0\t_hyponym(01849221,Y) <= _hypernym(Y,01849221)\nstep 43000 parsing line 3\t2\t0.6666666666666666\t_derivationally_related_form(X,07400906) <= _derivationally_related_form(X,07401726)\nstep 44000 parsing line 6\t2\t0.3333333333333333\t_hypernym(13266170,Y) <= _hypernym(Y,13265011)\nstep 45000 parsing line 404\t2\t0.0049504950495049506\t_instance_hypernym(11205647,Y) <= _instance_hypernym(A,Y)\nstep 46000 parsing line 3\t2\t0.6666666666666666\t_derivationally_related_form(X,00047945) <= _derivationally_related_form(00046534,X)\nstep 47000 parsing line 47\t3\t0.06382978723404255\t_member_of_domain_topic(X,Y) <= _hyponym(A,Y), _hyponym(B,A), _member_of_domain_topic(X,B)\nstep 48000 parsing line 279\t3\t0.010752688172043012\t_instance_hyponym(X,Y) <= _part_of(Y,A), _has_part(B,A), _instance_hypernym(B,X)\n"
    },
    {
     "output_type": "error",
     "ename": "NameError",
     "evalue": "name 'path_rules_used' is not defined",
     "traceback": [
      "\u001b[0;31m---------------------------------------------------------------------------\u001b[0m",
      "\u001b[0;31mNameError\u001b[0m                                 Traceback (most recent call last)",
      "\u001b[0;32m<ipython-input-3-638c0ca1d978>\u001b[0m in \u001b[0;36m<module>\u001b[0;34m\u001b[0m\n\u001b[1;32m      2\u001b[0m \u001b[0mrules\u001b[0m \u001b[0;34m=\u001b[0m \u001b[0mRuleReader\u001b[0m\u001b[0;34m(\u001b[0m\u001b[0;34m'learning_rules/WN18/rule_final.txt'\u001b[0m\u001b[0;34m)\u001b[0m\u001b[0;34m.\u001b[0m\u001b[0mread\u001b[0m\u001b[0;34m(\u001b[0m\u001b[0;34m)\u001b[0m\u001b[0;34m\u001b[0m\u001b[0;34m\u001b[0m\u001b[0m\n\u001b[1;32m      3\u001b[0m \u001b[0mrules_size\u001b[0m \u001b[0;34m=\u001b[0m \u001b[0mlen\u001b[0m\u001b[0;34m(\u001b[0m\u001b[0mrules\u001b[0m\u001b[0;34m)\u001b[0m\u001b[0;34m\u001b[0m\u001b[0;34m\u001b[0m\u001b[0m\n\u001b[0;32m----> 4\u001b[0;31m \u001b[0mprint\u001b[0m\u001b[0;34m(\u001b[0m\u001b[0;34m'*** read rules {} rom file {}'\u001b[0m\u001b[0;34m.\u001b[0m\u001b[0mformat\u001b[0m\u001b[0;34m(\u001b[0m\u001b[0mrules_size\u001b[0m\u001b[0;34m,\u001b[0m \u001b[0mpath_rules_used\u001b[0m\u001b[0;34m)\u001b[0m\u001b[0;34m)\u001b[0m\u001b[0;34m\u001b[0m\u001b[0;34m\u001b[0m\u001b[0m\n\u001b[0m",
      "\u001b[0;31mNameError\u001b[0m: name 'path_rules_used' is not defined"
     ]
    }
   ],
   "source": [
    "from rule_io.rule_reader import RuleReader\n",
    "rules = RuleReader('learning_rules/WN18/rule_final.txt').read()\n",
    "rules_size = len(rules)\n",
    "print('*** read rules {} rom file {}'.format(rules_size, 'rule_extend_800.txt'))"
   ]
  },
  {
   "cell_type": "code",
   "execution_count": 7,
   "metadata": {},
   "outputs": [
    {
     "output_type": "execute_result",
     "data": {
      "text/plain": "48946"
     },
     "metadata": {},
     "execution_count": 7
    }
   ],
   "source": [
    "len(rules)\n"
   ]
  },
  {
   "cell_type": "code",
   "execution_count": 5,
   "metadata": {
    "tags": []
   },
   "outputs": [
    {
     "output_type": "stream",
     "name": "stdout",
     "text": "step 0 parsing line 145\t18\t0.12413793103448276\t_instance_hypernym(X,08691669) <= _instance_hypernym(X,08633957)\n"
    },
    {
     "output_type": "execute_result",
     "data": {
      "text/plain": "733"
     },
     "metadata": {},
     "execution_count": 5
    }
   ],
   "source": [
    "rules_ex = RuleReader('learning_rules/WN18/rule_extend_800.txt').read()\n",
    "len(rules_ex)"
   ]
  },
  {
   "cell_type": "code",
   "execution_count": 6,
   "metadata": {},
   "outputs": [],
   "source": [
    "rules.extend(rules_ex)"
   ]
  },
  {
   "cell_type": "code",
   "execution_count": 1,
   "metadata": {
    "tags": []
   },
   "outputs": [
    {
     "output_type": "stream",
     "name": "stdout",
     "text": "* indexed 100000 triples\n* set up index for 18 relations, 40504 head entities, and 40551 tail entities\n* set up index for 18 relations, 4349 head entities, and 4263 tail entities\n* set up index for 18 relations, 4262 head entities, and 4338 tail entities\nstep 0 parsing line 3\t2\t0.6666666666666666\t_member_holonym(X,02601589) <= _hypernym(X,02601344)\nstep 1000 parsing line 3\t2\t0.6666666666666666\t_instance_hyponym(10624540,Y) <= _member_meronym(08369920,Y)\nstep 2000 parsing line 500\t20\t0.04\t_hypernym(X,01429349) <= _member_holonym(A,X)\nstep 3000 parsing line 47916\t13\t0.00027130812254779195\t_part_of(X,Y) <= _synset_domain_topic_of(X,A),_member_of_domain_topic(A,Y)\nstep 4000 parsing line 297\t5\t0.016835016835016835\t_instance_hypernym(X,Y) <= _has_part(A,X),_part_of(A,B),_instance_hyponym(Y,B)\nstep 0 parsing line 500\t2\t0.004\t_hyponym(01557774,Y) <= _derivationally_related_form(Y,A)\nstep 1000 parsing line 5\t3\t0.6\t_derivationally_related_form(X,00545501) <= _derivationally_related_form(X,10599806)\nstep 2000 parsing line 2\t2\t1.0\t_member_meronym(12485122,Y) <= _member_holonym(Y,12485122)\nstep 3000 parsing line 3\t3\t1.0\t_derivationally_related_form(09943811,Y) <= _derivationally_related_form(Y,09943811)\nstep 4000 parsing line 500\t6\t0.012\t_instance_hyponym(09254614,Y) <= _has_part(Y,A)\nstep 5000 parsing line 4\t2\t0.5\t_hypernym(X,01656813) <= _member_holonym(X,01705247)\nstep 6000 parsing line 6\t4\t0.6666666666666666\t_derivationally_related_form(X,00590626) <= _derivationally_related_form(X,00751887)\nstep 7000 parsing line 500\t2\t0.004\t_hypernym(X,00033020) <= _hypernym(A,X)\nstep 8000 parsing line 7\t2\t0.2857142857142857\t_derivationally_related_form(01353226,Y) <= _derivationally_related_form(13894434,Y)\nstep 9000 parsing line 4\t4\t1.0\t_derivationally_related_form(05658226,Y) <= _derivationally_related_form(Y,00882702)\nstep 10000 parsing line 2\t2\t1.0\t_hyponym(11579418,Y) <= _member_meronym(12811856,Y)\nstep 11000 parsing line 500\t2\t0.004\t_hyponym(00407535,Y) <= _member_of_domain_topic(A,Y)\nstep 12000 parsing line 28\t3\t0.10714285714285714\t_synset_domain_topic_of(X,06037666) <= _hyponym(13526110,X)\nstep 13000 parsing line 276\t4\t0.014492753623188406\t_hyponym(01181475,Y) <= _synset_domain_topic_of(Y,08441203)\nstep 14000 parsing line 500\t2\t0.004\t_hypernym(X,11565040) <= _member_meronym(X,A)\nstep 15000 parsing line 5\t5\t1.0\t_derivationally_related_form(X,02448185) <= _derivationally_related_form(02448185,X)\nstep 16000 parsing line 2\t2\t1.0\t_derivationally_related_form(00759551,Y) <= _derivationally_related_form(13971561,Y)\nstep 17000 parsing line 2\t2\t1.0\t_derivationally_related_form(07578093,Y) <= _derivationally_related_form(Y,07578093)\nstep 18000 parsing line 7\t7\t1.0\t_hyponym(06377442,Y) <= _hypernym(Y,06377442)\nstep 19000 parsing line 11\t2\t0.18181818181818182\t_part_of(09453887,Y) <= _member_holonym(Y,09050244)\nstep 20000 parsing line 5\t3\t0.6\t_hyponym(02034661,Y) <= _member_holonym(Y,02034394)\nstep 21000 parsing line 500\t2\t0.004\t_has_part(X,08926681) <= _has_part(X,A)\nstep 22000 parsing line 2\t2\t1.0\t_derivationally_related_form(X,04864515) <= _derivationally_related_form(04864515,X)\nstep 23000 parsing line 3\t3\t1.0\t_hypernym(X,01802494) <= _hyponym(01802494,X)\nstep 24000 parsing line 41\t2\t0.04878048780487805\t_has_part(01308438,Y) <= _instance_hyponym(00956485,Y)\nstep 25000 parsing line 500\t2\t0.004\t_derivationally_related_form(00941990,Y) <= _has_part(Y,A)\nstep 26000 parsing line 31\t2\t0.06451612903225806\t_member_holonym(02402175,Y) <= _member_holonym(Y,02400139)\nstep 27000 parsing line 500\t2\t0.004\t_hyponym(11868814,Y) <= _member_holonym(Y,A)\nstep 28000 parsing line 4\t2\t0.5\t_also_see(01934554,Y) <= _also_see(02461723,Y)\nstep 29000 parsing line 209\t5\t0.023923444976076555\t_member_holonym(X,02660769) <= _hyponym(01432517,X)\nstep 30000 parsing line 14\t2\t0.14285714285714285\t_hyponym(X,07921615) <= _hyponym(07881800,X)\nstep 31000 parsing line 6\t6\t1.0\t_derivationally_related_form(07410207,Y) <= _derivationally_related_form(Y,07410207)\nstep 32000 parsing line 4\t2\t0.5\t_derivationally_related_form(X,10716389) <= _derivationally_related_form(10716005,X)\nstep 33000 parsing line 3\t3\t1.0\t_hyponym(01195867,Y) <= _hypernym(Y,01195867)\nstep 34000 parsing line 2\t2\t1.0\t_derivationally_related_form(X,06637350) <= _derivationally_related_form(06637350,X)\nstep 35000 parsing line 2\t2\t1.0\t_hyponym(X,07274425) <= _hypernym(07274890,X)\nstep 36000 parsing line 2\t2\t1.0\t_derivationally_related_form(01378556,Y) <= _derivationally_related_form(01380122,Y)\nstep 37000 parsing line 57\t2\t0.03508771929824561\t_has_part(05311054,Y) <= _hypernym(Y,05225602)\nstep 38000 parsing line 5\t5\t1.0\t_hypernym(X,00006484) <= _hyponym(00006484,X)\nstep 39000 parsing line 5\t2\t0.4\t_derivationally_related_form(X,02764765) <= _derivationally_related_form(02159890,X)\nstep 40000 parsing line 8\t7\t0.875\t_derivationally_related_form(X,00963283) <= _derivationally_related_form(00963283,X)\nstep 41000 parsing line 18\t3\t0.16666666666666666\t_part_of(X,09071690) <= _instance_hypernym(X,08638442)\nstep 42000 parsing line 3\t3\t1.0\t_hyponym(01849221,Y) <= _hypernym(Y,01849221)\nstep 43000 parsing line 3\t2\t0.6666666666666666\t_derivationally_related_form(X,07400906) <= _derivationally_related_form(X,07401726)\nstep 44000 parsing line 6\t2\t0.3333333333333333\t_hypernym(13266170,Y) <= _hypernym(Y,13265011)\nstep 45000 parsing line 404\t2\t0.0049504950495049506\t_instance_hypernym(11205647,Y) <= _instance_hypernym(A,Y)\nstep 46000 parsing line 3\t2\t0.6666666666666666\t_derivationally_related_form(X,00047945) <= _derivationally_related_form(00046534,X)\nstep 47000 parsing line 47\t3\t0.06382978723404255\t_member_of_domain_topic(X,Y) <= _hyponym(A,Y), _hyponym(B,A), _member_of_domain_topic(X,B)\nstep 48000 parsing line 279\t3\t0.010752688172043012\t_instance_hyponym(X,Y) <= _part_of(Y,A), _has_part(B,A), _instance_hypernym(B,X)\n*** read rules 52265 rom file learning_rules/WN18/rule_1000.txt\n* applying rules\n* set up index structure covering rules for 18 different relations\n* constructed filter set with 151442 triples\n* (# 0 ) trying to guess the tail/head of 06845599 _member_of_domain_usage 03754979\nElapsed (s) = 0\n* (# 100 ) trying to guess the tail/head of 00802946 _derivationally_related_form 01141841\nElapsed (s) = 16\n* (# 200 ) trying to guess the tail/head of 00940384 _hyponym 00903212\nElapsed (s) = 17\n* (# 300 ) trying to guess the tail/head of 01589125 _member_meronym 01589286\nElapsed (s) = 18\n* (# 400 ) trying to guess the tail/head of 11534677 _hyponym 13140535\nElapsed (s) = 17\n* (# 500 ) trying to guess the tail/head of 00670261 _hyponym 00726300\nElapsed (s) = 14\n* (# 600 ) trying to guess the tail/head of 11886380 _member_holonym 11867525\nElapsed (s) = 15\n* (# 700 ) trying to guess the tail/head of 05296253 _part_of 05461816\nElapsed (s) = 18\n* (# 800 ) trying to guess the tail/head of 13576355 _hyponym 13777344\nElapsed (s) = 16\n* (# 900 ) trying to guess the tail/head of 01711297 _member_holonym 01710348\nElapsed (s) = 16\n* (# 1000 ) trying to guess the tail/head of 10771270 _derivationally_related_form 01041415\nElapsed (s) = 15\n* (# 1100 ) trying to guess the tail/head of 00043765 _derivationally_related_form 02603699\nElapsed (s) = 16\n* (# 1200 ) trying to guess the tail/head of 05009170 _hyponym 05019661\nElapsed (s) = 15\n* (# 1300 ) trying to guess the tail/head of 01507175 _hyponym 01530256\nElapsed (s) = 17\n* (# 1400 ) trying to guess the tail/head of 08510666 _hyponym 08629508\nElapsed (s) = 15\n* (# 1500 ) trying to guess the tail/head of 08945821 _instance_hypernym 08698379\nElapsed (s) = 15\n* (# 1600 ) trying to guess the tail/head of 01225562 _derivationally_related_form 00011551\nElapsed (s) = 18\n* (# 1700 ) trying to guess the tail/head of 01105639 _hyponym 01106670\nElapsed (s) = 14\n* (# 1800 ) trying to guess the tail/head of 15068436 _hypernym 14818238\nElapsed (s) = 18\n* (# 1900 ) trying to guess the tail/head of 07781319 _part_of 02624551\nElapsed (s) = 16\n* (# 2000 ) trying to guess the tail/head of 01504437 _hyponym 01550429\nElapsed (s) = 15\n* (# 2100 ) trying to guess the tail/head of 01941670 _member_meronym 01952162\nElapsed (s) = 18\n* (# 2200 ) trying to guess the tail/head of 00044353 _derivationally_related_form 05792010\nElapsed (s) = 15\n* (# 2300 ) trying to guess the tail/head of 00021939 _hyponym 03573282\nElapsed (s) = 17\n* (# 2400 ) trying to guess the tail/head of 06136258 _member_of_domain_topic 00729642\nElapsed (s) = 17\n* (# 2500 ) trying to guess the tail/head of 01447868 _also_see 01675780\nElapsed (s) = 17\n* (# 2600 ) trying to guess the tail/head of 01407904 _synset_domain_topic_of 00464894\nElapsed (s) = 17\n* (# 2700 ) trying to guess the tail/head of 02446352 _hypernym 02445715\nElapsed (s) = 16\n* (# 2800 ) trying to guess the tail/head of 06149484 _member_of_domain_topic 14444326\nElapsed (s) = 17\n* (# 2900 ) trying to guess the tail/head of 02104882 _hypernym 02104523\nElapsed (s) = 14\n* (# 3000 ) trying to guess the tail/head of 10745332 _hypernym 09863238\nElapsed (s) = 16\n* (# 3100 ) trying to guess the tail/head of 15006258 _hyponym 14872875\nElapsed (s) = 18\n* (# 3200 ) trying to guess the tail/head of 11860801 _hypernym 11573660\nElapsed (s) = 15\n* (# 3300 ) trying to guess the tail/head of 08889191 _instance_hypernym 08691669\nElapsed (s) = 14\n* (# 3400 ) trying to guess the tail/head of 03804744 _derivationally_related_form 01357831\nElapsed (s) = 17\n* (# 3500 ) trying to guess the tail/head of 01507175 _hyponym 02009015\nElapsed (s) = 15\n* (# 3600 ) trying to guess the tail/head of 01021420 _hyponym 00763399\nElapsed (s) = 14\n* (# 3700 ) trying to guess the tail/head of 11567411 _hyponym 12395717\nElapsed (s) = 16\n* (# 3800 ) trying to guess the tail/head of 01081001 _hypernym 01079480\nElapsed (s) = 18\n* (# 3900 ) trying to guess the tail/head of 15298011 _synset_domain_topic_of 06128570\nElapsed (s) = 18\n* (# 4000 ) trying to guess the tail/head of 12701901 _hypernym 11585340\nElapsed (s) = 17\n* (# 4100 ) trying to guess the tail/head of 08199025 _member_of_domain_topic 06804847\nElapsed (s) = 16\n* (# 4200 ) trying to guess the tail/head of 10325243 _derivationally_related_form 00475819\nElapsed (s) = 16\n* (# 4300 ) trying to guess the tail/head of 08359949 _hypernym 08189659\nElapsed (s) = 16\n* (# 4400 ) trying to guess the tail/head of 00431117 _derivationally_related_form 00357906\nElapsed (s) = 17\n* (# 4500 ) trying to guess the tail/head of 02483564 _derivationally_related_form 13737480\nElapsed (s) = 17\n* (# 4600 ) trying to guess the tail/head of 00289175 _hypernym 00288970\nElapsed (s) = 15\n* (# 4700 ) trying to guess the tail/head of 08227214 _hypernym 08049401\nElapsed (s) = 15\n* (# 4800 ) trying to guess the tail/head of 02116777 _verb_group 02116568\nElapsed (s) = 14\n* (# 4900 ) trying to guess the tail/head of 06808720 _hyponym 06811625\nElapsed (s) = 16\n* done with rule application\n* evaluated 52265 rules to propose candiates for 5000 *2 completion tasks\n* finished in 1183942 ms.\n"
    }
   ],
   "source": [
    "from predict import Predict\n",
    "\n",
    "predictior = Predict('WN18')\n",
    "predictior.prediction(True)"
   ]
  },
  {
   "cell_type": "code",
   "execution_count": null,
   "metadata": {},
   "outputs": [],
   "source": []
  }
 ]
}